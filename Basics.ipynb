{
 "cells": [
  {
   "cell_type": "markdown",
   "metadata": {},
   "source": [
    "# Hacker News Project "
   ]
  },
  {
   "cell_type": "markdown",
   "metadata": {},
   "source": [
    "The goal of this project was to evaluate a dataset from Hacker News, specifically evaluating the \"Show HN\" and \"Ask HN\" to identify any key insights:\n",
    "\n",
    "1. Do \"Ask HN\" or \"Show HN\" posts receive more comments on average?\n",
    "2. Do posts created at a certain time receive more comments on average?"
   ]
  },
  {
   "cell_type": "code",
   "execution_count": 1,
   "metadata": {
    "collapsed": false
   },
   "outputs": [
    {
     "name": "stdout",
     "output_type": "stream",
     "text": [
      "['id', 'title', 'url', 'num_points', 'num_comments', 'author', 'created_at'] \n",
      "\n",
      "[['12224879', 'Interactive Dynamic Video', 'http://www.interactivedynamicvideo.com/', '386', '52', 'ne0phyte', '8/4/2016 11:52'], ['10975351', 'How to Use Open Source and Shut the Fuck Up at the Same Time', 'http://hueniverse.com/2016/01/26/how-to-use-open-source-and-shut-the-fuck-up-at-the-same-time/', '39', '10', 'josep2', '1/26/2016 19:30'], ['11964716', \"Florida DJs May Face Felony for April Fools' Water Joke\", 'http://www.thewire.com/entertainment/2013/04/florida-djs-april-fools-water-joke/63798/', '2', '1', 'vezycash', '6/23/2016 22:20'], ['11919867', 'Technology ventures: From Idea to Enterprise', 'https://www.amazon.com/Technology-Ventures-Enterprise-Thomas-Byers/dp/0073523429', '3', '1', 'hswarna', '6/17/2016 0:01']]\n"
     ]
    }
   ],
   "source": [
    "# Import dataset and separate header row from the data.\n",
    "from csv import reader\n",
    "opened = open('hacker_news.csv')\n",
    "read = reader(opened)\n",
    "hn = list(read)\n",
    "headers = hn[0]\n",
    "hn = hn[1:]\n",
    "\n",
    "# Examine dataset\n",
    "print(headers, '\\n')\n",
    "print(hn[:4])"
   ]
  },
  {
   "cell_type": "code",
   "execution_count": 2,
   "metadata": {
    "collapsed": false
   },
   "outputs": [
    {
     "name": "stdout",
     "output_type": "stream",
     "text": [
      "Ask posts: 1744\n",
      "Show posts: 1162\n",
      "Other posts: 17194\n"
     ]
    }
   ],
   "source": [
    "# Filter Ask HN, Show HN, and Other posts into separate lists\n",
    "ask_posts, show_posts, other_posts = [], [], []\n",
    "\n",
    "for row in hn:\n",
    "    title = row[1].lower()\n",
    "    \n",
    "    if title.startswith('ask hn'):\n",
    "        ask_posts.append(row)\n",
    "    elif title.startswith('show hn'):\n",
    "        show_posts.append(row)\n",
    "    else:\n",
    "        other_posts.append(row)\n",
    "        \n",
    "print('Ask posts: {}'.format(len(ask_posts)))\n",
    "print('Show posts: {}'.format(len(show_posts)))\n",
    "print('Other posts: {}'.format(len(other_posts)))"
   ]
  },
  {
   "cell_type": "code",
   "execution_count": 3,
   "metadata": {
    "collapsed": false
   },
   "outputs": [
    {
     "name": "stdout",
     "output_type": "stream",
     "text": [
      "Average number of comments per Ask HN post: 14.038417431192661\n"
     ]
    }
   ],
   "source": [
    "# Return sum of Ask HN post comments and the average number of comments\n",
    "\n",
    "total_ask_comments = 0\n",
    "\n",
    "for post in ask_posts:\n",
    "    total_ask_comments += int(post[4])\n",
    "    \n",
    "avg_ask_comments = total_ask_comments / len(ask_posts)\n",
    "print('Average number of comments per Ask HN post: {}'.format(avg_ask_comments))"
   ]
  },
  {
   "cell_type": "code",
   "execution_count": 4,
   "metadata": {
    "collapsed": false
   },
   "outputs": [
    {
     "name": "stdout",
     "output_type": "stream",
     "text": [
      "Average number of comments per Show HN post: 10.31669535283993\n"
     ]
    }
   ],
   "source": [
    "# Return sum of Show HN post comments and the average number of comments\n",
    "\n",
    "total_show_comments = 0\n",
    "    \n",
    "for post in show_posts:\n",
    "    total_show_comments += int(post[4])\n",
    "    \n",
    "avg_show_comments = total_show_comments / len(show_posts)\n",
    "    \n",
    "print('Average number of comments per Show HN post: {}'.format(avg_show_comments))"
   ]
  },
  {
   "cell_type": "markdown",
   "metadata": {},
   "source": [
    "It seems like Ask HN posts generate more comments on average with an average of 14 comments per post, indicating that they are more popular than Show HN posts which average 10 comments per post.\n",
    "***"
   ]
  },
  {
   "cell_type": "markdown",
   "metadata": {},
   "source": [
    "Next it's time to learn if Ask HN posts that are created at certain times of the day generate more comments than others. I'm going to evaluate:\n",
    "\n",
    "1. Amount of Ask posts created each hour of the day\n",
    "2. The number of comments each Ask post received\n",
    "3. Calculate the average number of comments per hour created."
   ]
  },
  {
   "cell_type": "code",
   "execution_count": 28,
   "metadata": {
    "collapsed": false
   },
   "outputs": [
    {
     "name": "stdout",
     "output_type": "stream",
     "text": [
      "Ask posts created per hour: {'13': 85, '07': 34, '17': 100, '03': 54, '09': 45, '20': 80, '01': 60, '15': 116, '19': 110, '10': 59, '18': 109, '02': 58, '04': 47, '05': 46, '12': 73, '16': 108, '23': 68, '11': 58, '14': 107, '21': 109, '06': 44, '22': 71, '00': 55, '08': 48} \n",
      "\n",
      "Comments per Ask post per hour: {'13': 1253, '07': 267, '17': 1146, '03': 421, '09': 251, '20': 1722, '01': 683, '15': 4477, '19': 1188, '10': 793, '18': 1439, '02': 1381, '04': 337, '05': 464, '12': 687, '16': 1814, '23': 543, '11': 641, '14': 1416, '21': 1745, '06': 397, '22': 479, '00': 447, '08': 492}\n"
     ]
    }
   ],
   "source": [
    "#Create a list of lists, containing the time a post was created along with the number of comments.\n",
    "\n",
    "import datetime as dt\n",
    "result_list = []\n",
    "\n",
    "for post in ask_posts:\n",
    "    post_created = post[6]\n",
    "    comment_count = int(post[4])\n",
    "    result_list.append([post_created, comment_count])\n",
    "\n",
    "counts_by_hour = {}\n",
    "comments_by_hour = {}\n",
    "date_format = '%m/%d/%Y %H:%M'\n",
    "\n",
    "for each_row in result_list:\n",
    "    comment_count = each_row[1]\n",
    "    hour = dt.datetime.strptime(each_row[0], date_format).strftime('%H')\n",
    "    if hour not in counts_by_hour:\n",
    "        counts_by_hour[hour] = 1\n",
    "        comments_by_hour[hour] = comment_count\n",
    "    else:\n",
    "        counts_by_hour[hour] += 1\n",
    "        comments_by_hour[hour] += comment_count\n",
    "        \n",
    "print('Ask posts created per hour: {}'.format(counts_by_hour), '\\n')\n",
    "print('Comments per Ask post per hour: {}'.format(comments_by_hour))"
   ]
  },
  {
   "cell_type": "markdown",
   "metadata": {},
   "source": [
    "***\n",
    "Once these datasets were learned, next was to learn the average number of comments created per hour."
   ]
  },
  {
   "cell_type": "code",
   "execution_count": 32,
   "metadata": {
    "collapsed": false
   },
   "outputs": [
    {
     "data": {
      "text/plain": [
       "[['13', 14.741176470588234],\n",
       " ['07', 7.852941176470588],\n",
       " ['17', 11.46],\n",
       " ['03', 7.796296296296297],\n",
       " ['09', 5.5777777777777775],\n",
       " ['20', 21.525],\n",
       " ['01', 11.383333333333333],\n",
       " ['15', 38.5948275862069],\n",
       " ['19', 10.8],\n",
       " ['10', 13.440677966101696],\n",
       " ['18', 13.20183486238532],\n",
       " ['02', 23.810344827586206],\n",
       " ['04', 7.170212765957447],\n",
       " ['05', 10.08695652173913],\n",
       " ['12', 9.41095890410959],\n",
       " ['16', 16.796296296296298],\n",
       " ['23', 7.985294117647059],\n",
       " ['11', 11.051724137931034],\n",
       " ['14', 13.233644859813085],\n",
       " ['21', 16.009174311926607],\n",
       " ['06', 9.022727272727273],\n",
       " ['22', 6.746478873239437],\n",
       " ['00', 8.127272727272727],\n",
       " ['08', 10.25]]"
      ]
     },
     "execution_count": 32,
     "metadata": {},
     "output_type": "execute_result"
    }
   ],
   "source": [
    "avg_comments_per_hour = []\n",
    "\n",
    "for hour in comments_by_hour:\n",
    "    avg_comments_per_hour.append([hour, comments_by_hour[hour] / counts_by_hour[hour]])\n",
    "    \n",
    "avg_comments_per_hour"
   ]
  },
  {
   "cell_type": "code",
   "execution_count": 43,
   "metadata": {
    "collapsed": false
   },
   "outputs": [
    {
     "name": "stdout",
     "output_type": "stream",
     "text": [
      "Top 5 hours for Ask Post Comments: \n",
      "\n",
      "15:00: 38.59 average comments per post.\n",
      "02:00: 23.81 average comments per post.\n",
      "20:00: 21.52 average comments per post.\n",
      "16:00: 16.80 average comments per post.\n",
      "21:00: 16.01 average comments per post.\n"
     ]
    }
   ],
   "source": [
    "swap_avg_per_hour = []\n",
    "\n",
    "for row in avg_comments_per_hour:\n",
    "    swap_avg_per_hour.append([row[1], row[0]])\n",
    "    \n",
    "sorted_swap = sorted(swap_avg_per_hour, reverse=True)\n",
    "print('Top 5 hours for Ask Post Comments:','\\n')\n",
    "\n",
    "for avg, hour in sorted_swap[:5]:\n",
    "    print(\"{}: {:.2f} average comments per post.\".format(dt.datetime.strptime(hour, '%H').strftime('%H:%M'), avg))"
   ]
  }
 ],
 "metadata": {
  "kernelspec": {
   "display_name": "Python 3",
   "language": "python",
   "name": "python3"
  },
  "language_info": {
   "codemirror_mode": {
    "name": "ipython",
    "version": 3
   },
   "file_extension": ".py",
   "mimetype": "text/x-python",
   "name": "python",
   "nbconvert_exporter": "python",
   "pygments_lexer": "ipython3",
   "version": "3.4.3"
  }
 },
 "nbformat": 4,
 "nbformat_minor": 2
}
