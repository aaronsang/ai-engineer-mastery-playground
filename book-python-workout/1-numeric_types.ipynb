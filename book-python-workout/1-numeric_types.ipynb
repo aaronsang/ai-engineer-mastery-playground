{
 "metadata": {
  "language_info": {
   "codemirror_mode": {
    "name": "ipython",
    "version": 3
   },
   "file_extension": ".py",
   "mimetype": "text/x-python",
   "name": "python",
   "nbconvert_exporter": "python",
   "pygments_lexer": "ipython3",
   "version": "3.8.5-final"
  },
  "orig_nbformat": 2,
  "kernelspec": {
   "name": "python3",
   "display_name": "Python 3"
  }
 },
 "nbformat": 4,
 "nbformat_minor": 2,
 "cells": [
  {
   "source": [
    "# Python Workout\n",
    "## Chapter 1 - Numeric Types"
   ],
   "cell_type": "markdown",
   "metadata": {}
  },
  {
   "source": [
    "### Exercise 1\n",
    "This is a simple number guessing game."
   ],
   "cell_type": "markdown",
   "metadata": {}
  },
  {
   "cell_type": "code",
   "execution_count": null,
   "metadata": {},
   "outputs": [],
   "source": [
    "from random import randint\n",
    "\n",
    "def guessing_game():\n",
    "    \"\"\"Takes an input from the user and compares against the randomly generated number to \n",
    "    determine if they match\"\"\"\n",
    "\n",
    "    number = randint(1, 30)\n",
    "    guess_counter = 2\n",
    "    while guess_counter > -1:\n",
    "        guess_greeting = f'You have {guess_counter} attempts remaining.'\n",
    "        if guess_counter == 1:\n",
    "            guess_greeting = f'You have {guess_counter} attempt remaining.'\n",
    "        user_guess = int(input('The random number is between 1 and 30. What is the random number? '))\n",
    "        if user_guess == number:\n",
    "            print('You win!')\n",
    "            break\n",
    "        elif user_guess < number:\n",
    "            print(f'{user_guess} is too low.')\n",
    "            guess_counter -= 1\n",
    "            print(guess_greeting)\n",
    "        else:\n",
    "            print(f'{user_guess} is too high.')\n",
    "            guess_counter -= 1\n",
    "            print(guess_greeting)\n",
    "    \n",
    "    if guess_counter == -1:\n",
    "        print('You are out of attempts. Game over.')\n",
    "\n",
    "guessing_game()"
   ]
  },
  {
   "source": [
    "---"
   ],
   "cell_type": "markdown",
   "metadata": {}
  },
  {
   "source": [
    "### Exercise 2"
   ],
   "cell_type": "markdown",
   "metadata": {}
  },
  {
   "cell_type": "code",
   "execution_count": 2,
   "metadata": {},
   "outputs": [
    {
     "output_type": "stream",
     "name": "stdout",
     "text": [
      "6\n"
     ]
    }
   ],
   "source": [
    "def my_sum(*args, starting_point = 0):\n",
    "    \"\"\"This recreates python's built in summing function.\"\"\"\n",
    "    total_sum = starting_point\n",
    "    for num in args:\n",
    "        total_sum += num\n",
    "    return total_sum\n",
    "\n",
    "print(my_sum(*[1, 2, 3]))"
   ]
  },
  {
   "cell_type": "code",
   "execution_count": 6,
   "metadata": {},
   "outputs": [
    {
     "output_type": "execute_result",
     "data": {
      "text/plain": [
       "2"
      ]
     },
     "metadata": {},
     "execution_count": 6
    }
   ],
   "source": [
    "def arithmetic_mean(num_list):\n",
    "    \"\"\"Takes in a list of numbers, and returns the average (i.e., arithmetic mean) of those numbers.\"\"\"\n",
    "    # initialize variable to hold sum of inputs\n",
    "    total = 0\n",
    "    for num in num_list:\n",
    "        total += num\n",
    "    return total // len(num_list)\n",
    "\n",
    "arithmetic_mean([1, 2, 3])"
   ]
  },
  {
   "source": [
    "### Exercise 3"
   ],
   "cell_type": "markdown",
   "metadata": {}
  },
  {
   "cell_type": "code",
   "execution_count": null,
   "metadata": {},
   "outputs": [],
   "source": []
  }
 ]
}