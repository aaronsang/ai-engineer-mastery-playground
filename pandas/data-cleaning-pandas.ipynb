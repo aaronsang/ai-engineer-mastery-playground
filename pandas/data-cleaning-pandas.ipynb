{
 "metadata": {
  "language_info": {
   "codemirror_mode": {
    "name": "ipython",
    "version": 3
   },
   "file_extension": ".py",
   "mimetype": "text/x-python",
   "name": "python",
   "nbconvert_exporter": "python",
   "pygments_lexer": "ipython3",
   "version": "3.7.6-final"
  },
  "orig_nbformat": 2,
  "kernelspec": {
   "name": "python3",
   "display_name": "Python 3"
  }
 },
 "nbformat": 4,
 "nbformat_minor": 2,
 "cells": [
  {
   "cell_type": "markdown",
   "metadata": {},
   "source": [
    "# Data Cleaning with Pandas"
   ]
  },
  {
   "cell_type": "code",
   "execution_count": 1,
   "metadata": {},
   "outputs": [],
   "source": [
    "import pandas as pd"
   ]
  },
  {
   "cell_type": "code",
   "execution_count": 2,
   "metadata": {},
   "outputs": [
    {
     "output_type": "error",
     "ename": "UnicodeDecodeError",
     "evalue": "'utf-8' codec can't decode byte 0xe9 in position 4: invalid continuation byte",
     "traceback": [
      "\u001b[1;31m---------------------------------------------------------------------------\u001b[0m",
      "\u001b[1;31mUnicodeDecodeError\u001b[0m                        Traceback (most recent call last)",
      "\u001b[1;32mpandas\\_libs\\parsers.pyx\u001b[0m in \u001b[0;36mpandas._libs.parsers.TextReader._convert_tokens\u001b[1;34m()\u001b[0m\n",
      "\u001b[1;32mpandas\\_libs\\parsers.pyx\u001b[0m in \u001b[0;36mpandas._libs.parsers.TextReader._convert_with_dtype\u001b[1;34m()\u001b[0m\n",
      "\u001b[1;32mpandas\\_libs\\parsers.pyx\u001b[0m in \u001b[0;36mpandas._libs.parsers.TextReader._string_convert\u001b[1;34m()\u001b[0m\n",
      "\u001b[1;32mpandas\\_libs\\parsers.pyx\u001b[0m in \u001b[0;36mpandas._libs.parsers._string_box_utf8\u001b[1;34m()\u001b[0m\n",
      "\u001b[1;31mUnicodeDecodeError\u001b[0m: 'utf-8' codec can't decode byte 0xe9 in position 4: invalid continuation byte",
      "\nDuring handling of the above exception, another exception occurred:\n",
      "\u001b[1;31mUnicodeDecodeError\u001b[0m                        Traceback (most recent call last)",
      "\u001b[1;32m<ipython-input-2-37d88e8209b7>\u001b[0m in \u001b[0;36m<module>\u001b[1;34m\u001b[0m\n\u001b[1;32m----> 1\u001b[1;33m \u001b[0mlaptops\u001b[0m \u001b[1;33m=\u001b[0m \u001b[0mpd\u001b[0m\u001b[1;33m.\u001b[0m\u001b[0mread_csv\u001b[0m\u001b[1;33m(\u001b[0m\u001b[1;34m'https://raw.githubusercontent.com/aaronsang/guided-data-science-projects/master/data/laptops.csv'\u001b[0m\u001b[1;33m)\u001b[0m\u001b[1;33m\u001b[0m\u001b[1;33m\u001b[0m\u001b[0m\n\u001b[0m",
      "\u001b[1;32m~\\Anaconda3\\lib\\site-packages\\pandas\\io\\parsers.py\u001b[0m in \u001b[0;36mparser_f\u001b[1;34m(filepath_or_buffer, sep, delimiter, header, names, index_col, usecols, squeeze, prefix, mangle_dupe_cols, dtype, engine, converters, true_values, false_values, skipinitialspace, skiprows, skipfooter, nrows, na_values, keep_default_na, na_filter, verbose, skip_blank_lines, parse_dates, infer_datetime_format, keep_date_col, date_parser, dayfirst, cache_dates, iterator, chunksize, compression, thousands, decimal, lineterminator, quotechar, quoting, doublequote, escapechar, comment, encoding, dialect, error_bad_lines, warn_bad_lines, delim_whitespace, low_memory, memory_map, float_precision)\u001b[0m\n\u001b[0;32m    674\u001b[0m         )\n\u001b[0;32m    675\u001b[0m \u001b[1;33m\u001b[0m\u001b[0m\n\u001b[1;32m--> 676\u001b[1;33m         \u001b[1;32mreturn\u001b[0m \u001b[0m_read\u001b[0m\u001b[1;33m(\u001b[0m\u001b[0mfilepath_or_buffer\u001b[0m\u001b[1;33m,\u001b[0m \u001b[0mkwds\u001b[0m\u001b[1;33m)\u001b[0m\u001b[1;33m\u001b[0m\u001b[1;33m\u001b[0m\u001b[0m\n\u001b[0m\u001b[0;32m    677\u001b[0m \u001b[1;33m\u001b[0m\u001b[0m\n\u001b[0;32m    678\u001b[0m     \u001b[0mparser_f\u001b[0m\u001b[1;33m.\u001b[0m\u001b[0m__name__\u001b[0m \u001b[1;33m=\u001b[0m \u001b[0mname\u001b[0m\u001b[1;33m\u001b[0m\u001b[1;33m\u001b[0m\u001b[0m\n",
      "\u001b[1;32m~\\Anaconda3\\lib\\site-packages\\pandas\\io\\parsers.py\u001b[0m in \u001b[0;36m_read\u001b[1;34m(filepath_or_buffer, kwds)\u001b[0m\n\u001b[0;32m    452\u001b[0m \u001b[1;33m\u001b[0m\u001b[0m\n\u001b[0;32m    453\u001b[0m     \u001b[1;32mtry\u001b[0m\u001b[1;33m:\u001b[0m\u001b[1;33m\u001b[0m\u001b[1;33m\u001b[0m\u001b[0m\n\u001b[1;32m--> 454\u001b[1;33m         \u001b[0mdata\u001b[0m \u001b[1;33m=\u001b[0m \u001b[0mparser\u001b[0m\u001b[1;33m.\u001b[0m\u001b[0mread\u001b[0m\u001b[1;33m(\u001b[0m\u001b[0mnrows\u001b[0m\u001b[1;33m)\u001b[0m\u001b[1;33m\u001b[0m\u001b[1;33m\u001b[0m\u001b[0m\n\u001b[0m\u001b[0;32m    455\u001b[0m     \u001b[1;32mfinally\u001b[0m\u001b[1;33m:\u001b[0m\u001b[1;33m\u001b[0m\u001b[1;33m\u001b[0m\u001b[0m\n\u001b[0;32m    456\u001b[0m         \u001b[0mparser\u001b[0m\u001b[1;33m.\u001b[0m\u001b[0mclose\u001b[0m\u001b[1;33m(\u001b[0m\u001b[1;33m)\u001b[0m\u001b[1;33m\u001b[0m\u001b[1;33m\u001b[0m\u001b[0m\n",
      "\u001b[1;32m~\\Anaconda3\\lib\\site-packages\\pandas\\io\\parsers.py\u001b[0m in \u001b[0;36mread\u001b[1;34m(self, nrows)\u001b[0m\n\u001b[0;32m   1131\u001b[0m     \u001b[1;32mdef\u001b[0m \u001b[0mread\u001b[0m\u001b[1;33m(\u001b[0m\u001b[0mself\u001b[0m\u001b[1;33m,\u001b[0m \u001b[0mnrows\u001b[0m\u001b[1;33m=\u001b[0m\u001b[1;32mNone\u001b[0m\u001b[1;33m)\u001b[0m\u001b[1;33m:\u001b[0m\u001b[1;33m\u001b[0m\u001b[1;33m\u001b[0m\u001b[0m\n\u001b[0;32m   1132\u001b[0m         \u001b[0mnrows\u001b[0m \u001b[1;33m=\u001b[0m \u001b[0m_validate_integer\u001b[0m\u001b[1;33m(\u001b[0m\u001b[1;34m\"nrows\"\u001b[0m\u001b[1;33m,\u001b[0m \u001b[0mnrows\u001b[0m\u001b[1;33m)\u001b[0m\u001b[1;33m\u001b[0m\u001b[1;33m\u001b[0m\u001b[0m\n\u001b[1;32m-> 1133\u001b[1;33m         \u001b[0mret\u001b[0m \u001b[1;33m=\u001b[0m \u001b[0mself\u001b[0m\u001b[1;33m.\u001b[0m\u001b[0m_engine\u001b[0m\u001b[1;33m.\u001b[0m\u001b[0mread\u001b[0m\u001b[1;33m(\u001b[0m\u001b[0mnrows\u001b[0m\u001b[1;33m)\u001b[0m\u001b[1;33m\u001b[0m\u001b[1;33m\u001b[0m\u001b[0m\n\u001b[0m\u001b[0;32m   1134\u001b[0m \u001b[1;33m\u001b[0m\u001b[0m\n\u001b[0;32m   1135\u001b[0m         \u001b[1;31m# May alter columns / col_dict\u001b[0m\u001b[1;33m\u001b[0m\u001b[1;33m\u001b[0m\u001b[1;33m\u001b[0m\u001b[0m\n",
      "\u001b[1;32m~\\Anaconda3\\lib\\site-packages\\pandas\\io\\parsers.py\u001b[0m in \u001b[0;36mread\u001b[1;34m(self, nrows)\u001b[0m\n\u001b[0;32m   2035\u001b[0m     \u001b[1;32mdef\u001b[0m \u001b[0mread\u001b[0m\u001b[1;33m(\u001b[0m\u001b[0mself\u001b[0m\u001b[1;33m,\u001b[0m \u001b[0mnrows\u001b[0m\u001b[1;33m=\u001b[0m\u001b[1;32mNone\u001b[0m\u001b[1;33m)\u001b[0m\u001b[1;33m:\u001b[0m\u001b[1;33m\u001b[0m\u001b[1;33m\u001b[0m\u001b[0m\n\u001b[0;32m   2036\u001b[0m         \u001b[1;32mtry\u001b[0m\u001b[1;33m:\u001b[0m\u001b[1;33m\u001b[0m\u001b[1;33m\u001b[0m\u001b[0m\n\u001b[1;32m-> 2037\u001b[1;33m             \u001b[0mdata\u001b[0m \u001b[1;33m=\u001b[0m \u001b[0mself\u001b[0m\u001b[1;33m.\u001b[0m\u001b[0m_reader\u001b[0m\u001b[1;33m.\u001b[0m\u001b[0mread\u001b[0m\u001b[1;33m(\u001b[0m\u001b[0mnrows\u001b[0m\u001b[1;33m)\u001b[0m\u001b[1;33m\u001b[0m\u001b[1;33m\u001b[0m\u001b[0m\n\u001b[0m\u001b[0;32m   2038\u001b[0m         \u001b[1;32mexcept\u001b[0m \u001b[0mStopIteration\u001b[0m\u001b[1;33m:\u001b[0m\u001b[1;33m\u001b[0m\u001b[1;33m\u001b[0m\u001b[0m\n\u001b[0;32m   2039\u001b[0m             \u001b[1;32mif\u001b[0m \u001b[0mself\u001b[0m\u001b[1;33m.\u001b[0m\u001b[0m_first_chunk\u001b[0m\u001b[1;33m:\u001b[0m\u001b[1;33m\u001b[0m\u001b[1;33m\u001b[0m\u001b[0m\n",
      "\u001b[1;32mpandas\\_libs\\parsers.pyx\u001b[0m in \u001b[0;36mpandas._libs.parsers.TextReader.read\u001b[1;34m()\u001b[0m\n",
      "\u001b[1;32mpandas\\_libs\\parsers.pyx\u001b[0m in \u001b[0;36mpandas._libs.parsers.TextReader._read_low_memory\u001b[1;34m()\u001b[0m\n",
      "\u001b[1;32mpandas\\_libs\\parsers.pyx\u001b[0m in \u001b[0;36mpandas._libs.parsers.TextReader._read_rows\u001b[1;34m()\u001b[0m\n",
      "\u001b[1;32mpandas\\_libs\\parsers.pyx\u001b[0m in \u001b[0;36mpandas._libs.parsers.TextReader._convert_column_data\u001b[1;34m()\u001b[0m\n",
      "\u001b[1;32mpandas\\_libs\\parsers.pyx\u001b[0m in \u001b[0;36mpandas._libs.parsers.TextReader._convert_tokens\u001b[1;34m()\u001b[0m\n",
      "\u001b[1;32mpandas\\_libs\\parsers.pyx\u001b[0m in \u001b[0;36mpandas._libs.parsers.TextReader._convert_with_dtype\u001b[1;34m()\u001b[0m\n",
      "\u001b[1;32mpandas\\_libs\\parsers.pyx\u001b[0m in \u001b[0;36mpandas._libs.parsers.TextReader._string_convert\u001b[1;34m()\u001b[0m\n",
      "\u001b[1;32mpandas\\_libs\\parsers.pyx\u001b[0m in \u001b[0;36mpandas._libs.parsers._string_box_utf8\u001b[1;34m()\u001b[0m\n",
      "\u001b[1;31mUnicodeDecodeError\u001b[0m: 'utf-8' codec can't decode byte 0xe9 in position 4: invalid continuation byte"
     ]
    }
   ],
   "source": [
    "laptops = pd.read_csv('https://raw.githubusercontent.com/aaronsang/guided-data-science-projects/master/data/laptops.csv')"
   ]
  },
  {
   "cell_type": "markdown",
   "metadata": {},
   "source": [
    "Encodings are systems for representing characters in binary. This data set needs to be encoded using 'Latin-1'."
   ]
  },
  {
   "cell_type": "code",
   "execution_count": 3,
   "metadata": {},
   "outputs": [],
   "source": [
    "laptops = pd.read_csv('https://raw.githubusercontent.com/aaronsang/guided-data-science-projects/master/data/laptops.csv', encoding='Latin-1')"
   ]
  },
  {
   "cell_type": "code",
   "execution_count": 4,
   "metadata": {
    "tags": []
   },
   "outputs": [
    {
     "output_type": "stream",
     "name": "stdout",
     "text": "Manufacturer   Model Name   Category Screen Size  \\\n0        Apple  MacBook Pro  Ultrabook       13.3\"   \n1        Apple  Macbook Air  Ultrabook       13.3\"   \n2           HP       250 G6   Notebook       15.6\"   \n3        Apple  MacBook Pro  Ultrabook       15.4\"   \n4        Apple  MacBook Pro  Ultrabook       13.3\"   \n\n                               Screen                         CPU   RAM  \\\n0  IPS Panel Retina Display 2560x1600        Intel Core i5 2.3GHz   8GB   \n1                            1440x900        Intel Core i5 1.8GHz   8GB   \n2                   Full HD 1920x1080  Intel Core i5 7200U 2.5GHz   8GB   \n3  IPS Panel Retina Display 2880x1800        Intel Core i7 2.7GHz  16GB   \n4  IPS Panel Retina Display 2560x1600        Intel Core i5 3.1GHz   8GB   \n\n               Storage                           GPU Operating System  \\\n0            128GB SSD  Intel Iris Plus Graphics 640            macOS   \n1  128GB Flash Storage        Intel HD Graphics 6000            macOS   \n2            256GB SSD         Intel HD Graphics 620            No OS   \n3            512GB SSD            AMD Radeon Pro 455            macOS   \n4            256GB SSD  Intel Iris Plus Graphics 650            macOS   \n\n  Operating System Version  Weight Price (Euros)  \n0                      NaN  1.37kg       1339,69  \n1                      NaN  1.34kg        898,94  \n2                      NaN  1.86kg        575,00  \n3                      NaN  1.83kg       2537,45  \n4                      NaN  1.37kg       1803,60  \n"
    }
   ],
   "source": [
    "print(laptops.head())"
   ]
  },
  {
   "cell_type": "code",
   "execution_count": 5,
   "metadata": {
    "tags": []
   },
   "outputs": [
    {
     "output_type": "stream",
     "name": "stdout",
     "text": "<class 'pandas.core.frame.DataFrame'>\nRangeIndex: 1303 entries, 0 to 1302\nData columns (total 13 columns):\n #   Column                    Non-Null Count  Dtype \n---  ------                    --------------  ----- \n 0   Manufacturer              1303 non-null   object\n 1   Model Name                1303 non-null   object\n 2   Category                  1303 non-null   object\n 3   Screen Size               1303 non-null   object\n 4   Screen                    1303 non-null   object\n 5   CPU                       1303 non-null   object\n 6   RAM                       1303 non-null   object\n 7    Storage                  1303 non-null   object\n 8   GPU                       1303 non-null   object\n 9   Operating System          1303 non-null   object\n 10  Operating System Version  1133 non-null   object\n 11  Weight                    1303 non-null   object\n 12  Price (Euros)             1303 non-null   object\ndtypes: object(13)\nmemory usage: 132.5+ KB\n"
    }
   ],
   "source": [
    "laptops.info()"
   ]
  },
  {
   "cell_type": "code",
   "execution_count": 6,
   "metadata": {},
   "outputs": [
    {
     "output_type": "execute_result",
     "data": {
      "text/plain": "Index(['manufacturer', 'model_name', 'category', 'screen_size', 'screen',\n       'cpu', 'ram', 'storage', 'gpu', 'os', 'os_version', 'weight',\n       'price_euros'],\n      dtype='object')"
     },
     "metadata": {},
     "execution_count": 6
    }
   ],
   "source": [
    "def column_cleaner(a_string):# Tidies up a column name\n",
    "    a_string = a_string.strip()\n",
    "    a_string = a_string.replace('Operating System', 'os')\n",
    "    a_string = a_string.replace(\" \", \"_\")\n",
    "    a_string = a_string.replace(\"(\",\"\")\n",
    "    a_string = a_string.replace(\")\",\"\")\n",
    "    a_string = a_string.lower()\n",
    "    return a_string\n",
    "\n",
    "new_columns = []\n",
    "for column in laptops.columns:\n",
    "    new_col = column_cleaner(column)\n",
    "    new_columns.append(new_col)\n",
    "\n",
    "laptops.columns = new_columns\n",
    "laptops.columns"
   ]
  },
  {
   "cell_type": "code",
   "execution_count": 7,
   "metadata": {},
   "outputs": [
    {
     "output_type": "execute_result",
     "data": {
      "text/plain": "array(['13.3\"', '15.6\"', '15.4\"', '14.0\"', '12.0\"', '11.6\"', '17.3\"',\n       '10.1\"', '13.5\"', '12.5\"', '13.0\"', '18.4\"', '13.9\"', '12.3\"',\n       '17.0\"', '15.0\"', '14.1\"', '11.3\"'], dtype=object)"
     },
     "metadata": {},
     "execution_count": 7
    }
   ],
   "source": [
    "laptops['screen_size'].unique()"
   ]
  },
  {
   "cell_type": "code",
   "execution_count": 8,
   "metadata": {},
   "outputs": [
    {
     "output_type": "execute_result",
     "data": {
      "text/plain": "array(['8GB', '16GB', '4GB', '2GB', '12GB', '6GB', '32GB', '24GB', '64GB'],\n      dtype=object)"
     },
     "metadata": {},
     "execution_count": 8
    }
   ],
   "source": [
    "laptops['ram'].unique()"
   ]
  },
  {
   "cell_type": "code",
   "execution_count": 9,
   "metadata": {},
   "outputs": [
    {
     "output_type": "execute_result",
     "data": {
      "text/plain": "array(['8', '16', '4', '2', '12', '6', '32', '24', '64'], dtype=object)"
     },
     "metadata": {},
     "execution_count": 9
    }
   ],
   "source": [
    "laptops['ram'] = laptops['ram'].str.replace(\"GB\",\"\")\n",
    "laptops['ram'].unique()"
   ]
  },
  {
   "cell_type": "code",
   "execution_count": 10,
   "metadata": {},
   "outputs": [
    {
     "output_type": "execute_result",
     "data": {
      "text/plain": "dtype('int32')"
     },
     "metadata": {},
     "execution_count": 10
    }
   ],
   "source": [
    "laptops['ram'] = laptops['ram'].astype(int)\n",
    "laptops['ram'].dtype"
   ]
  },
  {
   "cell_type": "code",
   "execution_count": 11,
   "metadata": {
    "tags": []
   },
   "outputs": [],
   "source": [
    "laptops.rename({'screen_size':'screen_size_inches'}, axis=1, inplace=True)"
   ]
  },
  {
   "cell_type": "code",
   "execution_count": 12,
   "metadata": {},
   "outputs": [],
   "source": [
    "laptops.rename({'ram':'ram_gb'}, axis=1, inplace=True)"
   ]
  },
  {
   "cell_type": "code",
   "execution_count": 13,
   "metadata": {
    "tags": []
   },
   "outputs": [
    {
     "output_type": "execute_result",
     "data": {
      "text/plain": "count    1303.000000\nmean        8.382195\nstd         5.084665\nmin         2.000000\n25%         4.000000\n50%         8.000000\n75%         8.000000\nmax        64.000000\nName: ram_gb, dtype: float64"
     },
     "metadata": {},
     "execution_count": 13
    }
   ],
   "source": [
    "laptops['ram_gb'].describe()"
   ]
  },
  {
   "cell_type": "code",
   "execution_count": 14,
   "metadata": {},
   "outputs": [
    {
     "output_type": "execute_result",
     "data": {
      "text/plain": "0    Intel Iris Plus Graphics 640\n1          Intel HD Graphics 6000\n2           Intel HD Graphics 620\n3              AMD Radeon Pro 455\n4    Intel Iris Plus Graphics 650\nName: gpu, dtype: object"
     },
     "metadata": {},
     "execution_count": 14
    }
   ],
   "source": [
    "laptops['gpu'].head()"
   ]
  },
  {
   "cell_type": "code",
   "execution_count": 15,
   "metadata": {},
   "outputs": [
    {
     "output_type": "execute_result",
     "data": {
      "text/plain": "Intel     722\nNvidia    400\nAMD       180\nARM         1\nName: gpu, dtype: int64"
     },
     "metadata": {},
     "execution_count": 15
    }
   ],
   "source": [
    "laptops['gpu'] = laptops['gpu'].str.split().str[0]\n",
    "laptops['gpu'].value_counts()"
   ]
  },
  {
   "cell_type": "code",
   "execution_count": 16,
   "metadata": {},
   "outputs": [
    {
     "output_type": "execute_result",
     "data": {
      "text/plain": "0          Intel Core i5 2.3GHz\n1          Intel Core i5 1.8GHz\n2    Intel Core i5 7200U 2.5GHz\n3          Intel Core i7 2.7GHz\n4          Intel Core i5 3.1GHz\nName: cpu, dtype: object"
     },
     "metadata": {},
     "execution_count": 16
    }
   ],
   "source": [
    "laptops['cpu'].head()"
   ]
  },
  {
   "cell_type": "code",
   "execution_count": 17,
   "metadata": {},
   "outputs": [
    {
     "output_type": "execute_result",
     "data": {
      "text/plain": "Intel      1240\nAMD          62\nSamsung       1\nName: cpu_manufacturer, dtype: int64"
     },
     "metadata": {},
     "execution_count": 17
    }
   ],
   "source": [
    "laptops['cpu_manufacturer'] = laptops['cpu'].str.split().str[0]\n",
    "laptops['cpu_manufacturer'].value_counts()"
   ]
  },
  {
   "cell_type": "code",
   "execution_count": 18,
   "metadata": {},
   "outputs": [
    {
     "output_type": "execute_result",
     "data": {
      "text/plain": "Index(['manufacturer', 'model_name', 'category', 'screen_size_inches',\n       'screen', 'cpu', 'ram_gb', 'storage', 'gpu', 'os', 'os_version',\n       'weight', 'price_euros', 'cpu_manufacturer'],\n      dtype='object')"
     },
     "metadata": {},
     "execution_count": 18
    }
   ],
   "source": [
    "laptops.columns"
   ]
  },
  {
   "cell_type": "code",
   "execution_count": 19,
   "metadata": {},
   "outputs": [
    {
     "output_type": "execute_result",
     "data": {
      "text/plain": "Windows      1125\nNo OS          66\nLinux          62\nChrome OS      27\nmacOS          13\nMac OS          8\nAndroid         2\nName: os, dtype: int64"
     },
     "metadata": {},
     "execution_count": 19
    }
   ],
   "source": [
    "laptops['os'].value_counts()"
   ]
  },
  {
   "cell_type": "code",
   "execution_count": 20,
   "metadata": {},
   "outputs": [
    {
     "output_type": "execute_result",
     "data": {
      "text/plain": "Windows      1125\nNo OS          66\nLinux          62\nChrome OS      27\nmacOS          21\nAndroid         2\nName: os, dtype: int64"
     },
     "metadata": {},
     "execution_count": 20
    }
   ],
   "source": [
    "mapping_dict = {\n",
    "    'Android': 'Android',\n",
    "    'Chrome OS': 'Chrome OS',\n",
    "    'Linux': 'Linux',\n",
    "    'Mac OS': 'macOS',\n",
    "    'No OS': 'No OS',\n",
    "    'Windows': 'Windows',\n",
    "    'macOS': 'macOS'\n",
    "}\n",
    "\n",
    "laptops['os'] = laptops['os'].map(mapping_dict)\n",
    "laptops['os'].value_counts()"
   ]
  },
  {
   "cell_type": "code",
   "execution_count": 21,
   "metadata": {},
   "outputs": [
    {
     "output_type": "execute_result",
     "data": {
      "text/plain": "manufacturer            0\nmodel_name              0\ncategory                0\nscreen_size_inches      0\nscreen                  0\ncpu                     0\nram_gb                  0\nstorage                 0\ngpu                     0\nos                      0\nos_version            170\nweight                  0\nprice_euros             0\ncpu_manufacturer        0\ndtype: int64"
     },
     "metadata": {},
     "execution_count": 21
    }
   ],
   "source": [
    "laptops.isnull().sum()"
   ]
  },
  {
   "cell_type": "code",
   "execution_count": 22,
   "metadata": {},
   "outputs": [
    {
     "output_type": "execute_result",
     "data": {
      "text/plain": "10      1072\nNaN      170\n7         45\nX          8\n10 S       8\nName: os_version, dtype: int64"
     },
     "metadata": {},
     "execution_count": 22
    }
   ],
   "source": [
    "laptops['os_version'].value_counts(dropna=False)"
   ]
  },
  {
   "cell_type": "code",
   "execution_count": 23,
   "metadata": {},
   "outputs": [
    {
     "output_type": "execute_result",
     "data": {
      "text/plain": "No OS        66\nLinux        62\nChrome OS    27\nmacOS        13\nAndroid       2\nName: os, dtype: int64"
     },
     "metadata": {},
     "execution_count": 23
    }
   ],
   "source": [
    "# View the os value counts for rows where the os version is NaN.\n",
    "laptops.loc[laptops['os_version'].isnull(), 'os'].value_counts()"
   ]
  },
  {
   "cell_type": "code",
   "execution_count": 24,
   "metadata": {},
   "outputs": [],
   "source": [
    "# Assign all macOS os to \"X\" os version\n",
    "# Assign \"Version Unknown\" to \"No OS\"\n",
    "laptops.loc[laptops['os'] == 'macOS', 'os_version'] = \"X\"\n",
    "laptops.loc[laptops['os'] == 'No OS', 'os_version'] = 'Version Unknown'"
   ]
  },
  {
   "cell_type": "code",
   "execution_count": 25,
   "metadata": {},
   "outputs": [
    {
     "output_type": "execute_result",
     "data": {
      "text/plain": "10                 1072\nNaN                  91\nVersion Unknown      66\n7                    45\nX                    21\n10 S                  8\nName: os_version, dtype: int64"
     },
     "metadata": {},
     "execution_count": 25
    }
   ],
   "source": [
    "laptops['os_version'].value_counts(dropna=False)"
   ]
  },
  {
   "cell_type": "code",
   "execution_count": 27,
   "metadata": {},
   "outputs": [],
   "source": [
    "laptops['weight'] = laptops['weight'].str.replace('kg',\"\").str.replace(\"s\",\"\").astype(float)\n",
    "laptops.rename({'weight':'weight_kg'},axis=1,inplace=True)"
   ]
  },
  {
   "cell_type": "code",
   "execution_count": 28,
   "metadata": {},
   "outputs": [
    {
     "output_type": "execute_result",
     "data": {
      "text/plain": "0       1.37\n1       1.34\n2       1.86\n3       1.83\n4       1.37\n        ... \n1298    1.80\n1299    1.30\n1300    1.50\n1301    2.19\n1302    2.20\nName: weight_kg, Length: 1303, dtype: float64"
     },
     "metadata": {},
     "execution_count": 28
    }
   ],
   "source": [
    "laptops['weight_kg']"
   ]
  },
  {
   "cell_type": "code",
   "execution_count": 29,
   "metadata": {},
   "outputs": [
    {
     "output_type": "execute_result",
     "data": {
      "text/plain": "0    1339,69\n1     898,94\n2     575,00\n3    2537,45\n4    1803,60\nName: price_euros, dtype: object"
     },
     "metadata": {},
     "execution_count": 29
    }
   ],
   "source": [
    "laptops['price_euros'].head()"
   ]
  },
  {
   "cell_type": "code",
   "execution_count": 30,
   "metadata": {},
   "outputs": [],
   "source": [
    "# Remove comma then convert into float\n",
    "laptops['price_euros'] = laptops['price_euros'].str.replace(\",\",\"\").astype(int)"
   ]
  },
  {
   "cell_type": "code",
   "execution_count": 31,
   "metadata": {},
   "outputs": [
    {
     "output_type": "execute_result",
     "data": {
      "text/plain": "0    133969\n1     89894\n2     57500\n3    253745\n4    180360\nName: price_euros, dtype: int32"
     },
     "metadata": {},
     "execution_count": 31
    }
   ],
   "source": [
    "laptops['price_euros'].head()"
   ]
  },
  {
   "cell_type": "code",
   "execution_count": 32,
   "metadata": {},
   "outputs": [
    {
     "output_type": "execute_result",
     "data": {
      "text/plain": "Full HD 1920x1080                                507\n1366x768                                         281\nIPS Panel Full HD 1920x1080                      230\nIPS Panel Full HD / Touchscreen 1920x1080         53\nFull HD / Touchscreen 1920x1080                   47\n1600x900                                          23\nTouchscreen 1366x768                              16\nQuad HD+ / Touchscreen 3200x1800                  15\nIPS Panel 4K Ultra HD 3840x2160                   12\nIPS Panel 4K Ultra HD / Touchscreen 3840x2160     11\n4K Ultra HD / Touchscreen 3840x2160               10\nIPS Panel 1366x768                                 7\n4K Ultra HD 3840x2160                              7\nTouchscreen 2560x1440                              7\nIPS Panel Retina Display 2304x1440                 6\nIPS Panel Retina Display 2560x1600                 6\nTouchscreen 2256x1504                              6\nIPS Panel Quad HD+ / Touchscreen 3200x1800         6\nIPS Panel Touchscreen 2560x1440                    5\n1440x900                                           4\nIPS Panel Retina Display 2880x1800                 4\nIPS Panel Touchscreen 1920x1200                    4\nIPS Panel 2560x1440                                4\n2560x1440                                          3\nIPS Panel Quad HD+ 2560x1440                       3\nQuad HD+ 3200x1800                                 3\n1920x1080                                          3\nTouchscreen 2400x1600                              3\nIPS Panel Touchscreen 1366x768                     3\nIPS Panel Quad HD+ 3200x1800                       2\nIPS Panel Full HD 2160x1440                        2\nIPS Panel Touchscreen / 4K Ultra HD 3840x2160      2\nIPS Panel Touchscreen 2400x1600                    1\nIPS Panel Retina Display 2736x1824                 1\nTouchscreen / 4K Ultra HD 3840x2160                1\nIPS Panel Full HD 1366x768                         1\nTouchscreen / Quad HD+ 3200x1800                   1\nIPS Panel Full HD 1920x1200                        1\nIPS Panel Full HD 2560x1440                        1\nTouchscreen / Full HD 1920x1080                    1\nName: screen, dtype: int64"
     },
     "metadata": {},
     "execution_count": 32
    }
   ],
   "source": [
    "laptops['screen'].value_counts()"
   ]
  },
  {
   "cell_type": "code",
   "execution_count": 41,
   "metadata": {},
   "outputs": [
    {
     "output_type": "execute_result",
     "data": {
      "text/plain": "manufacturer                                              Lenovo\nmodel_name                                        Yoga 900-13ISK\ncategory                                      2 in 1 Convertible\nscreen_size_inches                                         13.3\"\nscreen                IPS Panel Quad HD+ / Touchscreen 3200x1800\ncpu                                   Intel Core i7 6500U 2.5GHz\nram_gb                                                        16\nstorage                                                512GB SSD\ngpu                                                        Intel\nos                                                       Windows\nos_version                                                    10\nweight_kg                                                    1.3\nprice_euros                                               149900\ncpu_manufacturer                                           Intel\nName: 1299, dtype: object"
     },
     "metadata": {},
     "execution_count": 41
    }
   ],
   "source": [
    "laptops.iloc[1299]"
   ]
  },
  {
   "cell_type": "code",
   "execution_count": 46,
   "metadata": {},
   "outputs": [],
   "source": [
    "laptops['screen_resolutions'] = laptops['screen'].str.extract(r'(\\d{3,5}x\\d{3,5})')"
   ]
  },
  {
   "cell_type": "code",
   "execution_count": 50,
   "metadata": {},
   "outputs": [
    {
     "output_type": "execute_result",
     "data": {
      "text/plain": "1920x1080    841\n1366x768     308\n3840x2160     43\n3200x1800     27\n2560x1440     23\n1600x900      23\n2560x1600      6\n2304x1440      6\n2256x1504      6\n1920x1200      5\n2400x1600      4\n1440x900       4\n2880x1800      4\n2160x1440      2\n2736x1824      1\nName: screen_resolutions, dtype: int64"
     },
     "metadata": {},
     "execution_count": 50
    }
   ],
   "source": [
    "laptops['screen_resolutions'].value_counts(dropna=False)"
   ]
  },
  {
   "cell_type": "code",
   "execution_count": 52,
   "metadata": {},
   "outputs": [
    {
     "output_type": "execute_result",
     "data": {
      "text/plain": "0          Intel Core i5 2.3GHz\n1          Intel Core i5 1.8GHz\n2    Intel Core i5 7200U 2.5GHz\n3          Intel Core i7 2.7GHz\n4          Intel Core i5 3.1GHz\nName: cpu, dtype: object"
     },
     "metadata": {},
     "execution_count": 52
    }
   ],
   "source": [
    "laptops['cpu'].head()"
   ]
  },
  {
   "cell_type": "code",
   "execution_count": 57,
   "metadata": {},
   "outputs": [],
   "source": [
    "laptops['cpu_speed'] = laptops['cpu'].str.extract(r'(\\d.\\d\\D\\D\\D)')"
   ]
  },
  {
   "cell_type": "code",
   "execution_count": 58,
   "metadata": {},
   "outputs": [
    {
     "output_type": "execute_result",
     "data": {
      "text/plain": "  manufacturer   model_name   category screen_size_inches  \\\n0        Apple  MacBook Pro  Ultrabook              13.3\"   \n1        Apple  Macbook Air  Ultrabook              13.3\"   \n2           HP       250 G6   Notebook              15.6\"   \n3        Apple  MacBook Pro  Ultrabook              15.4\"   \n4        Apple  MacBook Pro  Ultrabook              13.3\"   \n\n                               screen                         cpu  ram_gb  \\\n0  IPS Panel Retina Display 2560x1600        Intel Core i5 2.3GHz       8   \n1                            1440x900        Intel Core i5 1.8GHz       8   \n2                   Full HD 1920x1080  Intel Core i5 7200U 2.5GHz       8   \n3  IPS Panel Retina Display 2880x1800        Intel Core i7 2.7GHz      16   \n4  IPS Panel Retina Display 2560x1600        Intel Core i5 3.1GHz       8   \n\n               storage    gpu     os       os_version  weight_kg  price_euros  \\\n0            128GB SSD  Intel  macOS                X       1.37       133969   \n1  128GB Flash Storage  Intel  macOS                X       1.34        89894   \n2            256GB SSD  Intel  No OS  Version Unknown       1.86        57500   \n3            512GB SSD    AMD  macOS                X       1.83       253745   \n4            256GB SSD  Intel  macOS                X       1.37       180360   \n\n  cpu_manufacturer screen_resolutions cpu_speed  \n0            Intel          2560x1600    2.3GHz  \n1            Intel           1440x900    1.8GHz  \n2            Intel          1920x1080    2.5GHz  \n3            Intel          2880x1800    2.7GHz  \n4            Intel          2560x1600    3.1GHz  ",
      "text/html": "<div>\n<style scoped>\n    .dataframe tbody tr th:only-of-type {\n        vertical-align: middle;\n    }\n\n    .dataframe tbody tr th {\n        vertical-align: top;\n    }\n\n    .dataframe thead th {\n        text-align: right;\n    }\n</style>\n<table border=\"1\" class=\"dataframe\">\n  <thead>\n    <tr style=\"text-align: right;\">\n      <th></th>\n      <th>manufacturer</th>\n      <th>model_name</th>\n      <th>category</th>\n      <th>screen_size_inches</th>\n      <th>screen</th>\n      <th>cpu</th>\n      <th>ram_gb</th>\n      <th>storage</th>\n      <th>gpu</th>\n      <th>os</th>\n      <th>os_version</th>\n      <th>weight_kg</th>\n      <th>price_euros</th>\n      <th>cpu_manufacturer</th>\n      <th>screen_resolutions</th>\n      <th>cpu_speed</th>\n    </tr>\n  </thead>\n  <tbody>\n    <tr>\n      <th>0</th>\n      <td>Apple</td>\n      <td>MacBook Pro</td>\n      <td>Ultrabook</td>\n      <td>13.3\"</td>\n      <td>IPS Panel Retina Display 2560x1600</td>\n      <td>Intel Core i5 2.3GHz</td>\n      <td>8</td>\n      <td>128GB SSD</td>\n      <td>Intel</td>\n      <td>macOS</td>\n      <td>X</td>\n      <td>1.37</td>\n      <td>133969</td>\n      <td>Intel</td>\n      <td>2560x1600</td>\n      <td>2.3GHz</td>\n    </tr>\n    <tr>\n      <th>1</th>\n      <td>Apple</td>\n      <td>Macbook Air</td>\n      <td>Ultrabook</td>\n      <td>13.3\"</td>\n      <td>1440x900</td>\n      <td>Intel Core i5 1.8GHz</td>\n      <td>8</td>\n      <td>128GB Flash Storage</td>\n      <td>Intel</td>\n      <td>macOS</td>\n      <td>X</td>\n      <td>1.34</td>\n      <td>89894</td>\n      <td>Intel</td>\n      <td>1440x900</td>\n      <td>1.8GHz</td>\n    </tr>\n    <tr>\n      <th>2</th>\n      <td>HP</td>\n      <td>250 G6</td>\n      <td>Notebook</td>\n      <td>15.6\"</td>\n      <td>Full HD 1920x1080</td>\n      <td>Intel Core i5 7200U 2.5GHz</td>\n      <td>8</td>\n      <td>256GB SSD</td>\n      <td>Intel</td>\n      <td>No OS</td>\n      <td>Version Unknown</td>\n      <td>1.86</td>\n      <td>57500</td>\n      <td>Intel</td>\n      <td>1920x1080</td>\n      <td>2.5GHz</td>\n    </tr>\n    <tr>\n      <th>3</th>\n      <td>Apple</td>\n      <td>MacBook Pro</td>\n      <td>Ultrabook</td>\n      <td>15.4\"</td>\n      <td>IPS Panel Retina Display 2880x1800</td>\n      <td>Intel Core i7 2.7GHz</td>\n      <td>16</td>\n      <td>512GB SSD</td>\n      <td>AMD</td>\n      <td>macOS</td>\n      <td>X</td>\n      <td>1.83</td>\n      <td>253745</td>\n      <td>Intel</td>\n      <td>2880x1800</td>\n      <td>2.7GHz</td>\n    </tr>\n    <tr>\n      <th>4</th>\n      <td>Apple</td>\n      <td>MacBook Pro</td>\n      <td>Ultrabook</td>\n      <td>13.3\"</td>\n      <td>IPS Panel Retina Display 2560x1600</td>\n      <td>Intel Core i5 3.1GHz</td>\n      <td>8</td>\n      <td>256GB SSD</td>\n      <td>Intel</td>\n      <td>macOS</td>\n      <td>X</td>\n      <td>1.37</td>\n      <td>180360</td>\n      <td>Intel</td>\n      <td>2560x1600</td>\n      <td>3.1GHz</td>\n    </tr>\n  </tbody>\n</table>\n</div>"
     },
     "metadata": {},
     "execution_count": 58
    }
   ],
   "source": [
    "laptops.head()"
   ]
  },
  {
   "cell_type": "code",
   "execution_count": null,
   "metadata": {},
   "outputs": [],
   "source": []
  }
 ]
}
