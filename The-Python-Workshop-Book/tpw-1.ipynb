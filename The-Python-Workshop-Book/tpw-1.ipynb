{
 "metadata": {
  "language_info": {
   "codemirror_mode": {
    "name": "ipython",
    "version": 3
   },
   "file_extension": ".py",
   "mimetype": "text/x-python",
   "name": "python",
   "nbconvert_exporter": "python",
   "pygments_lexer": "ipython3",
   "version": "3.8.3-final"
  },
  "orig_nbformat": 2,
  "kernelspec": {
   "name": "python_defaultSpec_1598816431178",
   "display_name": "Python 3.8.3 64-bit ('anaconda3': virtualenv)"
  }
 },
 "nbformat": 4,
 "nbformat_minor": 2,
 "cells": [
  {
   "cell_type": "markdown",
   "metadata": {},
   "source": [
    "# The Python Workshop - Chapter 1"
   ]
  },
  {
   "cell_type": "code",
   "execution_count": 4,
   "metadata": {
    "tags": []
   },
   "outputs": [
    {
     "output_type": "stream",
     "name": "stdout",
     "text": "-5.0\n9\n10\n"
    }
   ],
   "source": [
    "\"\"\"\n",
    "Exercise 1\n",
    "\"\"\"\n",
    "print((100 - 5 ** 3) / 5)\n",
    "print(6 + 15 % 4)\n",
    "print((2 ** 2) + 24 // 4)"
   ]
  },
  {
   "cell_type": "code",
   "execution_count": 8,
   "metadata": {
    "tags": []
   },
   "outputs": [
    {
     "output_type": "stream",
     "name": "stdout",
     "text": "<class 'int'>\n<class 'float'>\n8.14\n7\n6.0\n"
    }
   ],
   "source": [
    "\"\"\"\n",
    "Exercise 2\n",
    "\"\"\"\n",
    "print(type(6))\n",
    "print(type(6.0))\n",
    "print(5 + 3.14)\n",
    "print(int(7.9999999999997))\n",
    "print(float(6))"
   ]
  },
  {
   "cell_type": "code",
   "execution_count": 10,
   "metadata": {
    "tags": []
   },
   "outputs": [
    {
     "output_type": "stream",
     "name": "stdout",
     "text": "3\n4.0\n"
    }
   ],
   "source": [
    "\"\"\"\n",
    "Exercise 3\n",
    "\"\"\"\n",
    "x = 2\n",
    "print(x + 1)\n",
    "\n",
    "x = 3.0\n",
    "print(x + 1)"
   ]
  },
  {
   "cell_type": "code",
   "execution_count": 16,
   "metadata": {},
   "outputs": [
    {
     "output_type": "execute_result",
     "data": {
      "text/plain": "9.0"
     },
     "metadata": {},
     "execution_count": 16
    }
   ],
   "source": [
    "\"\"\"Activity 1\"\"\"\n",
    "x = 14\n",
    "x += 1\n",
    "x = (x / 5) ** 2\n",
    "x"
   ]
  },
  {
   "cell_type": "code",
   "execution_count": 11,
   "metadata": {},
   "outputs": [
    {
     "output_type": "error",
     "ename": "SyntaxError",
     "evalue": "invalid syntax (<ipython-input-11-052796426e77>, line 4)",
     "traceback": [
      "\u001b[0;36m  File \u001b[0;32m\"<ipython-input-11-052796426e77>\"\u001b[0;36m, line \u001b[0;32m4\u001b[0m\n\u001b[0;31m    1st_number = 1\u001b[0m\n\u001b[0m     ^\u001b[0m\n\u001b[0;31mSyntaxError\u001b[0m\u001b[0;31m:\u001b[0m invalid syntax\n"
     ]
    }
   ],
   "source": [
    "\"\"\"\n",
    "Exercise 4\n",
    "\"\"\"\n",
    "1st_number = 1\n",
    "first_number = 1\n",
    "my_money = 1000.00"
   ]
  },
  {
   "cell_type": "code",
   "execution_count": 14,
   "metadata": {},
   "outputs": [
    {
     "output_type": "execute_result",
     "data": {
      "text/plain": "6"
     },
     "metadata": {},
     "execution_count": 14
    }
   ],
   "source": [
    "\"\"\"\n",
    "Exercise 5\n",
    "\"\"\"\n",
    "x = 5\n",
    "y = 2\n",
    "x + x - y ** 2 "
   ]
  },
  {
   "cell_type": "code",
   "execution_count": null,
   "metadata": {},
   "outputs": [],
   "source": [
    "\"\"\"\n",
    "Exercise 6\n",
    "\"\"\"\n",
    "# This is a comment\n",
    "# Set the variable pi to 3.14\n",
    "pi = 3.14\n",
    "\n",
    "pi = 3.14 # Set the variable pi to 3.14"
   ]
  },
  {
   "cell_type": "code",
   "execution_count": 19,
   "metadata": {
    "tags": []
   },
   "outputs": [
    {
     "output_type": "stream",
     "name": "stdout",
     "text": "5.385164807134504\n"
    }
   ],
   "source": [
    "\"\"\"\n",
    "Activity 2 - This is a program to leverage the Pythagorean Theorem\n",
    "\"\"\"\n",
    "# initialize variables\n",
    "x, y, z = 2, 3, 4\n",
    "\n",
    "# square the variables, obtain the square root to find the distance\n",
    "print(((x ** 2) + (y ** 2) + (z ** 2)) ** .5)"
   ]
  },
  {
   "cell_type": "code",
   "execution_count": null,
   "metadata": {},
   "outputs": [],
   "source": []
  }
 ]
}