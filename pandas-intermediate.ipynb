{
 "metadata": {
  "language_info": {
   "codemirror_mode": {
    "name": "ipython",
    "version": 3
   },
   "file_extension": ".py",
   "mimetype": "text/x-python",
   "name": "python",
   "nbconvert_exporter": "python",
   "pygments_lexer": "ipython3",
   "version": "3.7.6-final"
  },
  "orig_nbformat": 2,
  "kernelspec": {
   "name": "python3",
   "display_name": "Python 3"
  }
 },
 "nbformat": 4,
 "nbformat_minor": 2,
 "cells": [
  {
   "cell_type": "code",
   "execution_count": 34,
   "metadata": {},
   "outputs": [],
   "source": [
    "import pandas as pd"
   ]
  },
  {
   "cell_type": "code",
   "execution_count": 35,
   "metadata": {},
   "outputs": [],
   "source": [
    "f500 = pd.read_csv('https://raw.githubusercontent.com/aaronsang/guided-data-science-projects/master/data/f500.csv')"
   ]
  },
  {
   "cell_type": "code",
   "execution_count": 36,
   "metadata": {},
   "outputs": [
    {
     "output_type": "execute_result",
     "data": {
      "text/plain": "                    company  rank  revenues  revenue_change  profits  assets  \\\n0                   Walmart     1    485873             0.8  13643.0  198825   \n1                State Grid     2    315199            -4.4   9571.3  489838   \n2             Sinopec Group     3    267518            -9.1   1257.9  310726   \n3  China National Petroleum     4    262573           -12.3   1867.5  585619   \n4              Toyota Motor     5    254694             7.7  16899.3  437575   \n\n   profit_change                  ceo                  industry  \\\n0           -7.2  C. Douglas McMillon     General Merchandisers   \n1           -6.2              Kou Wei                 Utilities   \n2          -65.0            Wang Yupu        Petroleum Refining   \n3          -73.7        Zhang Jianhua        Petroleum Refining   \n4          -12.3          Akio Toyoda  Motor Vehicles and Parts   \n\n                   sector  previous_rank country      hq_location  \\\n0               Retailing              1     USA  Bentonville, AR   \n1                  Energy              2   China   Beijing, China   \n2                  Energy              4   China   Beijing, China   \n3                  Energy              3   China   Beijing, China   \n4  Motor Vehicles & Parts              8   Japan    Toyota, Japan   \n\n                        website  years_on_global_500_list  employees  \\\n0        http://www.walmart.com                        23    2300000   \n1        http://www.sgcc.com.cn                        17     926067   \n2        http://www.sinopec.com                        19     713288   \n3        http://www.cnpc.com.cn                        17    1512048   \n4  http://www.toyota-global.com                        23     364445   \n\n   total_stockholder_equity  \n0                     77798  \n1                    209456  \n2                    106523  \n3                    301893  \n4                    157210  ",
      "text/html": "<div>\n<style scoped>\n    .dataframe tbody tr th:only-of-type {\n        vertical-align: middle;\n    }\n\n    .dataframe tbody tr th {\n        vertical-align: top;\n    }\n\n    .dataframe thead th {\n        text-align: right;\n    }\n</style>\n<table border=\"1\" class=\"dataframe\">\n  <thead>\n    <tr style=\"text-align: right;\">\n      <th></th>\n      <th>company</th>\n      <th>rank</th>\n      <th>revenues</th>\n      <th>revenue_change</th>\n      <th>profits</th>\n      <th>assets</th>\n      <th>profit_change</th>\n      <th>ceo</th>\n      <th>industry</th>\n      <th>sector</th>\n      <th>previous_rank</th>\n      <th>country</th>\n      <th>hq_location</th>\n      <th>website</th>\n      <th>years_on_global_500_list</th>\n      <th>employees</th>\n      <th>total_stockholder_equity</th>\n    </tr>\n  </thead>\n  <tbody>\n    <tr>\n      <th>0</th>\n      <td>Walmart</td>\n      <td>1</td>\n      <td>485873</td>\n      <td>0.8</td>\n      <td>13643.0</td>\n      <td>198825</td>\n      <td>-7.2</td>\n      <td>C. Douglas McMillon</td>\n      <td>General Merchandisers</td>\n      <td>Retailing</td>\n      <td>1</td>\n      <td>USA</td>\n      <td>Bentonville, AR</td>\n      <td>http://www.walmart.com</td>\n      <td>23</td>\n      <td>2300000</td>\n      <td>77798</td>\n    </tr>\n    <tr>\n      <th>1</th>\n      <td>State Grid</td>\n      <td>2</td>\n      <td>315199</td>\n      <td>-4.4</td>\n      <td>9571.3</td>\n      <td>489838</td>\n      <td>-6.2</td>\n      <td>Kou Wei</td>\n      <td>Utilities</td>\n      <td>Energy</td>\n      <td>2</td>\n      <td>China</td>\n      <td>Beijing, China</td>\n      <td>http://www.sgcc.com.cn</td>\n      <td>17</td>\n      <td>926067</td>\n      <td>209456</td>\n    </tr>\n    <tr>\n      <th>2</th>\n      <td>Sinopec Group</td>\n      <td>3</td>\n      <td>267518</td>\n      <td>-9.1</td>\n      <td>1257.9</td>\n      <td>310726</td>\n      <td>-65.0</td>\n      <td>Wang Yupu</td>\n      <td>Petroleum Refining</td>\n      <td>Energy</td>\n      <td>4</td>\n      <td>China</td>\n      <td>Beijing, China</td>\n      <td>http://www.sinopec.com</td>\n      <td>19</td>\n      <td>713288</td>\n      <td>106523</td>\n    </tr>\n    <tr>\n      <th>3</th>\n      <td>China National Petroleum</td>\n      <td>4</td>\n      <td>262573</td>\n      <td>-12.3</td>\n      <td>1867.5</td>\n      <td>585619</td>\n      <td>-73.7</td>\n      <td>Zhang Jianhua</td>\n      <td>Petroleum Refining</td>\n      <td>Energy</td>\n      <td>3</td>\n      <td>China</td>\n      <td>Beijing, China</td>\n      <td>http://www.cnpc.com.cn</td>\n      <td>17</td>\n      <td>1512048</td>\n      <td>301893</td>\n    </tr>\n    <tr>\n      <th>4</th>\n      <td>Toyota Motor</td>\n      <td>5</td>\n      <td>254694</td>\n      <td>7.7</td>\n      <td>16899.3</td>\n      <td>437575</td>\n      <td>-12.3</td>\n      <td>Akio Toyoda</td>\n      <td>Motor Vehicles and Parts</td>\n      <td>Motor Vehicles &amp; Parts</td>\n      <td>8</td>\n      <td>Japan</td>\n      <td>Toyota, Japan</td>\n      <td>http://www.toyota-global.com</td>\n      <td>23</td>\n      <td>364445</td>\n      <td>157210</td>\n    </tr>\n  </tbody>\n</table>\n</div>"
     },
     "metadata": {},
     "execution_count": 36
    }
   ],
   "source": [
    "f500.head()"
   ]
  },
  {
   "cell_type": "code",
   "execution_count": 37,
   "metadata": {},
   "outputs": [
    {
     "output_type": "execute_result",
     "data": {
      "text/plain": "array(['USA', 'China', 'Japan', 'Germany', 'Netherlands', 'Britain',\n       'South Korea', 'Switzerland', 'France', 'Taiwan', 'Singapore',\n       'Italy', 'Russia', 'Spain', 'Brazil', 'Mexico', 'Luxembourg',\n       'India', 'Malaysia', 'Thailand', 'Australia', 'Belgium', 'Norway',\n       'Canada', 'Ireland', 'Indonesia', 'Denmark', 'Saudi Arabia',\n       'Sweden', 'Finland', 'Venezuela', 'Turkey', 'U.A.E', 'Israel'],\n      dtype=object)"
     },
     "metadata": {},
     "execution_count": 37
    }
   ],
   "source": [
    "top_employer_by_country = {}\n",
    "\n",
    "countries = f500['country'].unique()\n",
    "countries"
   ]
  },
  {
   "cell_type": "code",
   "execution_count": 38,
   "metadata": {},
   "outputs": [],
   "source": [
    "for country in countries:\n",
    "    selected = f500[f500['country'] == country]\n",
    "    count = selected.sort_values('employees', ascending=False)\n",
    "    highest_company = count.iloc[0]['company']\n",
    "    top_employer_by_country[country] = highest_company"
   ]
  },
  {
   "cell_type": "code",
   "execution_count": 39,
   "metadata": {},
   "outputs": [
    {
     "output_type": "execute_result",
     "data": {
      "text/plain": "{'USA': 'Walmart',\n 'China': 'China National Petroleum',\n 'Japan': 'Toyota Motor',\n 'Germany': 'Volkswagen',\n 'Netherlands': 'EXOR Group',\n 'Britain': 'Compass Group',\n 'South Korea': 'Samsung Electronics',\n 'Switzerland': 'Nestle',\n 'France': 'Sodexo',\n 'Taiwan': 'Hon Hai Precision Industry',\n 'Singapore': 'Flex',\n 'Italy': 'Poste Italiane',\n 'Russia': 'Gazprom',\n 'Spain': 'Banco Santander',\n 'Brazil': 'JBS',\n 'Mexico': 'America Movil',\n 'Luxembourg': 'ArcelorMittal',\n 'India': 'State Bank of India',\n 'Malaysia': 'Petronas',\n 'Thailand': 'PTT',\n 'Australia': 'Wesfarmers',\n 'Belgium': 'Anheuser-Busch InBev',\n 'Norway': 'Statoil',\n 'Canada': 'George Weston',\n 'Ireland': 'Accenture',\n 'Indonesia': 'Pertamina',\n 'Denmark': 'Maersk Group',\n 'Saudi Arabia': 'SABIC',\n 'Sweden': 'H & M Hennes & Mauritz',\n 'Finland': 'Nokia',\n 'Venezuela': 'Mercantil Servicios Financieros',\n 'Turkey': 'Koc Holding',\n 'U.A.E': 'Emirates Group',\n 'Israel': 'Teva Pharmaceutical Industries'}"
     },
     "metadata": {},
     "execution_count": 39
    }
   ],
   "source": [
    "top_employer_by_country"
   ]
  },
  {
   "cell_type": "code",
   "execution_count": 40,
   "metadata": {},
   "outputs": [],
   "source": [
    "f500['roa'] = f500['profits'] / f500['assets']"
   ]
  },
  {
   "cell_type": "code",
   "execution_count": 41,
   "metadata": {},
   "outputs": [
    {
     "output_type": "execute_result",
     "data": {
      "text/plain": "                                   company   assets\n21   Industrial & Commercial Bank of China  3473238\n45                              Fannie Mae  3287968\n27                 China Construction Bank  3016578\n37              Agricultural Bank of China  2816039\n163         Mitsubishi UFJ Financial Group  2722354\n..                                     ...      ...\n308                         Edeka Zentrale     6921\n438     China National Aviation Fuel Group     6093\n401                    World Fuel Services     5413\n456                        Heraeus Holding     4982\n294                         Rajesh Exports     3717\n\n[500 rows x 2 columns]",
      "text/html": "<div>\n<style scoped>\n    .dataframe tbody tr th:only-of-type {\n        vertical-align: middle;\n    }\n\n    .dataframe tbody tr th {\n        vertical-align: top;\n    }\n\n    .dataframe thead th {\n        text-align: right;\n    }\n</style>\n<table border=\"1\" class=\"dataframe\">\n  <thead>\n    <tr style=\"text-align: right;\">\n      <th></th>\n      <th>company</th>\n      <th>assets</th>\n    </tr>\n  </thead>\n  <tbody>\n    <tr>\n      <th>21</th>\n      <td>Industrial &amp; Commercial Bank of China</td>\n      <td>3473238</td>\n    </tr>\n    <tr>\n      <th>45</th>\n      <td>Fannie Mae</td>\n      <td>3287968</td>\n    </tr>\n    <tr>\n      <th>27</th>\n      <td>China Construction Bank</td>\n      <td>3016578</td>\n    </tr>\n    <tr>\n      <th>37</th>\n      <td>Agricultural Bank of China</td>\n      <td>2816039</td>\n    </tr>\n    <tr>\n      <th>163</th>\n      <td>Mitsubishi UFJ Financial Group</td>\n      <td>2722354</td>\n    </tr>\n    <tr>\n      <th>...</th>\n      <td>...</td>\n      <td>...</td>\n    </tr>\n    <tr>\n      <th>308</th>\n      <td>Edeka Zentrale</td>\n      <td>6921</td>\n    </tr>\n    <tr>\n      <th>438</th>\n      <td>China National Aviation Fuel Group</td>\n      <td>6093</td>\n    </tr>\n    <tr>\n      <th>401</th>\n      <td>World Fuel Services</td>\n      <td>5413</td>\n    </tr>\n    <tr>\n      <th>456</th>\n      <td>Heraeus Holding</td>\n      <td>4982</td>\n    </tr>\n    <tr>\n      <th>294</th>\n      <td>Rajesh Exports</td>\n      <td>3717</td>\n    </tr>\n  </tbody>\n</table>\n<p>500 rows × 2 columns</p>\n</div>"
     },
     "metadata": {},
     "execution_count": 41
    }
   ],
   "source": [
    "f500[['company','assets']].sort_values('assets',ascending=False)"
   ]
  },
  {
   "cell_type": "code",
   "execution_count": 42,
   "metadata": {},
   "outputs": [
    {
     "output_type": "execute_result",
     "data": {
      "text/plain": "array(['Retailing', 'Energy', 'Motor Vehicles & Parts', 'Financials',\n       'Technology', 'Wholesalers', 'Health Care', 'Telecommunications',\n       'Engineering & Construction', 'Industrials', 'Food & Drug Stores',\n       'Aerospace & Defense', 'Food, Beverages & Tobacco',\n       'Household Products', 'Transportation', 'Materials', 'Chemicals',\n       'Media', 'Apparel', 'Hotels, Restaurants & Leisure',\n       'Business Services'], dtype=object)"
     },
     "metadata": {},
     "execution_count": 42
    }
   ],
   "source": [
    "top_roa_by_sector = {}\n",
    "\n",
    "sectors = f500['sector'].unique()\n",
    "sectors"
   ]
  },
  {
   "cell_type": "code",
   "execution_count": 46,
   "metadata": {},
   "outputs": [],
   "source": [
    "# Create dictionary of Sector : ROA\n",
    "for sector in sectors:\n",
    "    sector_only_rows = f500.loc[f500['sector'] == sector]\n",
    "    sorted_sectors = sector_only_rows.sort_values('roa', ascending=False)\n",
    "    top_roa_by_sector[sector] = sorted_sectors.iloc[0]['company']"
   ]
  },
  {
   "cell_type": "code",
   "execution_count": 47,
   "metadata": {},
   "outputs": [
    {
     "output_type": "execute_result",
     "data": {
      "text/plain": "{'Retailing': 'H & M Hennes & Mauritz',\n 'Energy': 'National Grid',\n 'Motor Vehicles & Parts': 'Subaru',\n 'Financials': 'Berkshire Hathaway',\n 'Technology': 'Accenture',\n 'Wholesalers': 'McKesson',\n 'Health Care': 'Gilead Sciences',\n 'Telecommunications': 'KDDI',\n 'Engineering & Construction': 'Pacific Construction Group',\n 'Industrials': '3M',\n 'Food & Drug Stores': 'Publix Super Markets',\n 'Aerospace & Defense': 'Lockheed Martin',\n 'Food, Beverages & Tobacco': 'Philip Morris International',\n 'Household Products': 'Unilever',\n 'Transportation': 'Delta Air Lines',\n 'Materials': 'CRH',\n 'Chemicals': 'LyondellBasell Industries',\n 'Media': 'Disney',\n 'Apparel': 'Nike',\n 'Hotels, Restaurants & Leisure': 'McDonald’s',\n 'Business Services': 'Adecco Group'}"
     },
     "metadata": {},
     "execution_count": 47
    }
   ],
   "source": [
    "top_roa_by_sector"
   ]
  },
  {
   "cell_type": "code",
   "execution_count": null,
   "metadata": {},
   "outputs": [],
   "source": []
  }
 ]
}