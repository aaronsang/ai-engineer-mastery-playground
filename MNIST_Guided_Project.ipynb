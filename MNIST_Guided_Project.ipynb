{
  "nbformat": 4,
  "nbformat_minor": 0,
  "metadata": {
    "colab": {
      "name": "MNIST Guided Project",
      "provenance": [],
      "collapsed_sections": [],
      "authorship_tag": "ABX9TyMigIxxY9l5f0uJy0gpkYme",
      "include_colab_link": true
    },
    "kernelspec": {
      "name": "python3",
      "display_name": "Python 3"
    },
    "accelerator": "GPU"
  },
  "cells": [
    {
      "cell_type": "markdown",
      "metadata": {
        "id": "view-in-github",
        "colab_type": "text"
      },
      "source": [
        "<a href=\"https://colab.research.google.com/github/aaronsang/mastery-playground/blob/master/MNIST_Guided_Project.ipynb\" target=\"_parent\"><img src=\"https://colab.research.google.com/assets/colab-badge.svg\" alt=\"Open In Colab\"/></a>"
      ]
    },
    {
      "cell_type": "markdown",
      "metadata": {
        "id": "orY95n9X0xzH"
      },
      "source": [
        "# MNIST - Guided Project - Deep Learning w/ Python 2.0"
      ]
    },
    {
      "cell_type": "code",
      "metadata": {
        "id": "b7TecyRg0wRJ"
      },
      "source": [
        "import numpy as np\n",
        "import tensorflow as tf\n",
        "from tensorflow import keras"
      ],
      "execution_count": 1,
      "outputs": []
    },
    {
      "cell_type": "code",
      "metadata": {
        "id": "5gC-sMQtC2lp",
        "outputId": "799de136-4f0d-47d8-fec3-627ecbb56f64",
        "colab": {
          "base_uri": "https://localhost:8080/"
        }
      },
      "source": [
        "# load mnist dataset\n",
        "from keras.datasets import mnist\n",
        "(train_images, train_labels), (test_images, test_labels) = mnist.load_data()"
      ],
      "execution_count": 3,
      "outputs": [
        {
          "output_type": "stream",
          "text": [
            "Downloading data from https://storage.googleapis.com/tensorflow/tf-keras-datasets/mnist.npz\n",
            "11493376/11490434 [==============================] - 0s 0us/step\n"
          ],
          "name": "stdout"
        }
      ]
    },
    {
      "cell_type": "code",
      "metadata": {
        "id": "GaUsYsTEC4Ul",
        "outputId": "c1dfed36-6488-470b-f1a2-a8ab33281d7b",
        "colab": {
          "base_uri": "https://localhost:8080/"
        }
      },
      "source": [
        "print(train_images.ndim) # Now a Rank-2 Tensor, has 2 axes (rows and columns), originally a 3D tensor\n",
        "print(train_images.shape) # Modified from re-shaping, original was (60000, 28, 28) 60000 matrices, with 28 rows and 28 columns\n",
        "print(train_images.dtype) # data type the tensor contains, prior to pre-processing was uint8"
      ],
      "execution_count": 50,
      "outputs": [
        {
          "output_type": "stream",
          "text": [
            "2\n",
            "(60000, 784)\n",
            "float32\n"
          ],
          "name": "stdout"
        }
      ]
    },
    {
      "cell_type": "code",
      "metadata": {
        "id": "TFm46UiaDGJO",
        "outputId": "860d9cdc-b781-4bfd-9aa9-75d0efa1d966",
        "colab": {
          "base_uri": "https://localhost:8080/"
        }
      },
      "source": [
        "len(train_labels)"
      ],
      "execution_count": 10,
      "outputs": [
        {
          "output_type": "execute_result",
          "data": {
            "text/plain": [
              "60000"
            ]
          },
          "metadata": {
            "tags": []
          },
          "execution_count": 10
        }
      ]
    },
    {
      "cell_type": "code",
      "metadata": {
        "id": "l1M0yu2QDNcO",
        "outputId": "fc6f7c87-12d4-442f-a108-004bf2d89b58",
        "colab": {
          "base_uri": "https://localhost:8080/"
        }
      },
      "source": [
        "train_labels"
      ],
      "execution_count": 14,
      "outputs": [
        {
          "output_type": "execute_result",
          "data": {
            "text/plain": [
              "array([5, 0, 4, ..., 5, 6, 8], dtype=uint8)"
            ]
          },
          "metadata": {
            "tags": []
          },
          "execution_count": 14
        }
      ]
    },
    {
      "cell_type": "code",
      "metadata": {
        "id": "jR4tgxc3DN02",
        "outputId": "9a1dd288-a80a-4be0-d228-5a2fe5141693",
        "colab": {
          "base_uri": "https://localhost:8080/"
        }
      },
      "source": [
        "test_images.shape"
      ],
      "execution_count": 12,
      "outputs": [
        {
          "output_type": "execute_result",
          "data": {
            "text/plain": [
              "(10000, 28, 28)"
            ]
          },
          "metadata": {
            "tags": []
          },
          "execution_count": 12
        }
      ]
    },
    {
      "cell_type": "code",
      "metadata": {
        "id": "yGwHBRa5DQun"
      },
      "source": [
        "# Building the neural network\n",
        "from tensorflow.keras import models\n",
        "from tensorflow.keras import layers\n",
        "model = models.Sequential([\n",
        "                           layers.Dense(512, activation='relu'), \n",
        "                           layers.Dense(10, activation='softmax')])"
      ],
      "execution_count": 17,
      "outputs": []
    },
    {
      "cell_type": "code",
      "metadata": {
        "id": "bNIYujfeJgRa"
      },
      "source": [
        "# Compile\n",
        "model.compile(optimizer='rmsprop', loss='sparse_categorical_crossentropy', metrics=['accuracy'])"
      ],
      "execution_count": 22,
      "outputs": []
    },
    {
      "cell_type": "code",
      "metadata": {
        "id": "qs0UG9cDDuT0"
      },
      "source": [
        "# Re-shaping/pre-processing data\n",
        "train_images = train_images.reshape((60000, 28 *28))\n",
        "train_images = train_images.astype('float32') / 255\n",
        "test_images = test_images.reshape((10000, 28 *28))\n",
        "test_images = test_images.astype('float32') / 255"
      ],
      "execution_count": 19,
      "outputs": []
    },
    {
      "cell_type": "code",
      "metadata": {
        "id": "jtNkS1V2JFid",
        "outputId": "d2781a97-dbba-445a-c621-c71d164ce181",
        "colab": {
          "base_uri": "https://localhost:8080/"
        }
      },
      "source": [
        "# Train the model!\n",
        "model.fit(train_images, train_labels, epochs=5, batch_size=128)"
      ],
      "execution_count": 23,
      "outputs": [
        {
          "output_type": "stream",
          "text": [
            "Epoch 1/5\n",
            "469/469 [==============================] - 1s 2ms/step - loss: 0.2549 - accuracy: 0.9261\n",
            "Epoch 2/5\n",
            "469/469 [==============================] - 1s 2ms/step - loss: 0.1030 - accuracy: 0.9699\n",
            "Epoch 3/5\n",
            "469/469 [==============================] - 1s 2ms/step - loss: 0.0683 - accuracy: 0.9790\n",
            "Epoch 4/5\n",
            "469/469 [==============================] - 1s 2ms/step - loss: 0.0501 - accuracy: 0.9847\n",
            "Epoch 5/5\n",
            "469/469 [==============================] - 1s 2ms/step - loss: 0.0374 - accuracy: 0.9886\n"
          ],
          "name": "stdout"
        },
        {
          "output_type": "execute_result",
          "data": {
            "text/plain": [
              "<tensorflow.python.keras.callbacks.History at 0x7fbb803cce10>"
            ]
          },
          "metadata": {
            "tags": []
          },
          "execution_count": 23
        }
      ]
    },
    {
      "cell_type": "code",
      "metadata": {
        "id": "277-Ad5lJU-I",
        "outputId": "23c77ecc-85fe-453d-e6fa-dfc444ed9111",
        "colab": {
          "base_uri": "https://localhost:8080/"
        }
      },
      "source": [
        "# Test the model\n",
        "test_digits = test_images[0:10]\n",
        "predictions = model.predict(test_digits)\n",
        "predictions[0] # A representation of a number"
      ],
      "execution_count": 36,
      "outputs": [
        {
          "output_type": "stream",
          "text": [
            "[8.3505852e-10 5.1370637e-11 7.9095508e-07 4.9737914e-06 7.0832858e-12\n",
            " 1.1081260e-07 8.5344998e-15 9.9999368e-01 1.5185966e-08 4.9168034e-07]\n"
          ],
          "name": "stdout"
        }
      ]
    },
    {
      "cell_type": "code",
      "metadata": {
        "id": "VR_fJUzmKbqK",
        "outputId": "1a2af668-8281-4deb-9a98-10f0d438b045",
        "colab": {
          "base_uri": "https://localhost:8080/"
        }
      },
      "source": [
        "# Using argmax to determine which of the 10 digits the test image most likely is\n",
        "predictions[0].argmax()"
      ],
      "execution_count": 28,
      "outputs": [
        {
          "output_type": "execute_result",
          "data": {
            "text/plain": [
              "7"
            ]
          },
          "metadata": {
            "tags": []
          },
          "execution_count": 28
        }
      ]
    },
    {
      "cell_type": "code",
      "metadata": {
        "id": "j3KwU7WAKxtn",
        "outputId": "5c57fc79-bf77-402f-f25e-11c3b145dc77",
        "colab": {
          "base_uri": "https://localhost:8080/"
        }
      },
      "source": [
        "# Choosing the probability of the digit 7\n",
        "predictions[0][7]"
      ],
      "execution_count": 34,
      "outputs": [
        {
          "output_type": "execute_result",
          "data": {
            "text/plain": [
              "0.9999937"
            ]
          },
          "metadata": {
            "tags": []
          },
          "execution_count": 34
        }
      ]
    },
    {
      "cell_type": "code",
      "metadata": {
        "id": "kXo1YOh8LN_o",
        "outputId": "bbdb69d9-2918-40a5-ebb3-a1d1eb1682ea",
        "colab": {
          "base_uri": "https://localhost:8080/"
        }
      },
      "source": [
        "# Verifying via the label what digit this image is\n",
        "test_labels[0]"
      ],
      "execution_count": 35,
      "outputs": [
        {
          "output_type": "execute_result",
          "data": {
            "text/plain": [
              "7"
            ]
          },
          "metadata": {
            "tags": []
          },
          "execution_count": 35
        }
      ]
    },
    {
      "cell_type": "code",
      "metadata": {
        "id": "zd7BNfUbSoUy",
        "outputId": "132b47e0-c5de-4d53-eda3-2b88277487d1",
        "colab": {
          "base_uri": "https://localhost:8080/"
        }
      },
      "source": [
        "# Validating test sample at index 5\n",
        "print(predictions[5].argmax())\n",
        "print(test_labels[5])"
      ],
      "execution_count": 43,
      "outputs": [
        {
          "output_type": "stream",
          "text": [
            "1\n",
            "1\n"
          ],
          "name": "stdout"
        }
      ]
    },
    {
      "cell_type": "code",
      "metadata": {
        "id": "4UkbDLA6TFuV",
        "outputId": "4da8a2ef-f130-4332-fad2-f7aea0572041",
        "colab": {
          "base_uri": "https://localhost:8080/"
        }
      },
      "source": [
        "# Evaluating the model on new data\n",
        "test_loss, test_acc = model.evaluate(test_images, test_labels)\n",
        "print('test_acc:', test_acc)"
      ],
      "execution_count": 44,
      "outputs": [
        {
          "output_type": "stream",
          "text": [
            "313/313 [==============================] - 0s 2ms/step - loss: 0.0626 - accuracy: 0.9802\n",
            "test_acc: 0.9801999926567078\n"
          ],
          "name": "stdout"
        }
      ]
    },
    {
      "cell_type": "markdown",
      "metadata": {
        "id": "aGMIftK9ebE9"
      },
      "source": [
        "---"
      ]
    },
    {
      "cell_type": "markdown",
      "metadata": {
        "id": "_j1VtNV-c1s4"
      },
      "source": [
        "## **Breaking down the guided project**"
      ]
    },
    {
      "cell_type": "code",
      "metadata": {
        "id": "swBFur0bdA2N"
      },
      "source": [
        "(train_images, train_labels), (test_images, test_labels) = mnist.load_data()"
      ],
      "execution_count": 55,
      "outputs": []
    },
    {
      "cell_type": "code",
      "metadata": {
        "id": "jYnKvDA1dWeU",
        "outputId": "b4caac58-46a4-4854-c583-0131cd89cbdd",
        "colab": {
          "base_uri": "https://localhost:8080/"
        }
      },
      "source": [
        "print(train_images.ndim) # 3D tensor\n",
        "print(train_images.shape) # (60000, 28, 28) 60000 matrices, with 28 rows and 28 columns\n",
        "print(train_images.dtype) # uint8"
      ],
      "execution_count": 57,
      "outputs": [
        {
          "output_type": "stream",
          "text": [
            "3\n",
            "(60000, 28, 28)\n",
            "uint8\n"
          ],
          "name": "stdout"
        }
      ]
    },
    {
      "cell_type": "code",
      "metadata": {
        "id": "2vJBizTQdnLm",
        "outputId": "038af944-433a-46c3-fa39-596b76c5ff10",
        "colab": {
          "base_uri": "https://localhost:8080/",
          "height": 282
        }
      },
      "source": [
        "# Visualizing a sample\n",
        "digit = train_images[4]\n",
        "import matplotlib.pyplot as plt\n",
        "plt.imshow(digit, cmap=plt.cm.binary)\n",
        "plt.show()\n",
        "print(f'The image at index 4/above is: {train_labels[4]}')"
      ],
      "execution_count": 62,
      "outputs": [
        {
          "output_type": "display_data",
          "data": {
            "image/png": "[encoded data removed]",
            "text/plain": [
              "<Figure size 432x288 with 1 Axes>"
            ]
          },
          "metadata": {
            "tags": [],
            "needs_background": "light"
          }
        },
        {
          "output_type": "stream",
          "text": [
            "The image at index 4/above is: 9\n"
          ],
          "name": "stdout"
        }
      ]
    },
    {
      "cell_type": "markdown",
      "metadata": {
        "id": "NrQ3FlScedTM"
      },
      "source": [
        "---"
      ]
    },
    {
      "cell_type": "markdown",
      "metadata": {
        "id": "N7nlkRpneKT8"
      },
      "source": [
        "### Learning tensor slicing"
      ]
    },
    {
      "cell_type": "code",
      "metadata": {
        "id": "Hd07v-Mbc6N5",
        "outputId": "ee64e693-7b5a-467b-e4be-76de21df0e10",
        "colab": {
          "base_uri": "https://localhost:8080/"
        }
      },
      "source": [
        "my_slice = train_images[10:100]\n",
        "print(my_slice.shape)"
      ],
      "execution_count": 56,
      "outputs": [
        {
          "output_type": "stream",
          "text": [
            "(90, 28, 28)\n"
          ],
          "name": "stdout"
        }
      ]
    }
  ]
}