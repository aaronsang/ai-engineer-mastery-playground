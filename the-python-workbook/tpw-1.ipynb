{
 "metadata": {
  "language_info": {
   "codemirror_mode": {
    "name": "ipython",
    "version": 3
   },
   "file_extension": ".py",
   "mimetype": "text/x-python",
   "name": "python",
   "nbconvert_exporter": "python",
   "pygments_lexer": "ipython3",
   "version": "3.8.3-final"
  },
  "orig_nbformat": 2,
  "kernelspec": {
   "name": "python_defaultSpec_1598840380676",
   "display_name": "Python 3.8.3 64-bit ('anaconda3': virtualenv)"
  }
 },
 "nbformat": 4,
 "nbformat_minor": 2,
 "cells": [
  {
   "cell_type": "markdown",
   "metadata": {},
   "source": [
    "# The Python Workshop - Chapter 1"
   ]
  },
  {
   "cell_type": "code",
   "execution_count": 4,
   "metadata": {
    "tags": []
   },
   "outputs": [
    {
     "output_type": "stream",
     "name": "stdout",
     "text": "-5.0\n9\n10\n"
    }
   ],
   "source": [
    "\"\"\"\n",
    "Exercise 1 - calculator\n",
    "\"\"\"\n",
    "print((100 - 5 ** 3) / 5)\n",
    "print(6 + 15 % 4)\n",
    "print((2 ** 2) + 24 // 4)"
   ]
  },
  {
   "cell_type": "code",
   "execution_count": 8,
   "metadata": {
    "tags": []
   },
   "outputs": [
    {
     "output_type": "stream",
     "name": "stdout",
     "text": "<class 'int'>\n<class 'float'>\n8.14\n7\n6.0\n"
    }
   ],
   "source": [
    "\"\"\"\n",
    "Exercise 2 - types\n",
    "\"\"\"\n",
    "print(type(6))\n",
    "print(type(6.0))\n",
    "print(5 + 3.14)\n",
    "print(int(7.9999999999997))\n",
    "print(float(6))"
   ]
  },
  {
   "cell_type": "code",
   "execution_count": 10,
   "metadata": {
    "tags": []
   },
   "outputs": [
    {
     "output_type": "stream",
     "name": "stdout",
     "text": "3\n4.0\n"
    }
   ],
   "source": [
    "\"\"\"\n",
    "Exercise 3\n",
    "\"\"\"\n",
    "x = 2\n",
    "print(x + 1)\n",
    "\n",
    "x = 3.0\n",
    "print(x + 1)"
   ]
  },
  {
   "cell_type": "code",
   "execution_count": 16,
   "metadata": {},
   "outputs": [
    {
     "output_type": "execute_result",
     "data": {
      "text/plain": "9.0"
     },
     "metadata": {},
     "execution_count": 16
    }
   ],
   "source": [
    "\"\"\"\n",
    "Activity 1 - arithmetic\n",
    "\"\"\"\n",
    "x = 14\n",
    "x += 1\n",
    "x = (x / 5) ** 2\n",
    "x"
   ]
  },
  {
   "cell_type": "code",
   "execution_count": 11,
   "metadata": {},
   "outputs": [
    {
     "output_type": "error",
     "ename": "SyntaxError",
     "evalue": "invalid syntax (<ipython-input-11-052796426e77>, line 4)",
     "traceback": [
      "\u001b[0;36m  File \u001b[0;32m\"<ipython-input-11-052796426e77>\"\u001b[0;36m, line \u001b[0;32m4\u001b[0m\n\u001b[0;31m    1st_number = 1\u001b[0m\n\u001b[0m     ^\u001b[0m\n\u001b[0;31mSyntaxError\u001b[0m\u001b[0;31m:\u001b[0m invalid syntax\n"
     ]
    }
   ],
   "source": [
    "\"\"\"\n",
    "Exercise 4 - \n",
    "\"\"\"\n",
    "1st_number = 1\n",
    "first_number = 1\n",
    "my_money = 1000.00"
   ]
  },
  {
   "cell_type": "code",
   "execution_count": 14,
   "metadata": {},
   "outputs": [
    {
     "output_type": "execute_result",
     "data": {
      "text/plain": "6"
     },
     "metadata": {},
     "execution_count": 14
    }
   ],
   "source": [
    "\"\"\"\n",
    "Exercise 5 - arithmetic\n",
    "\"\"\"\n",
    "x = 5\n",
    "y = 2\n",
    "x + x - y ** 2 "
   ]
  },
  {
   "cell_type": "code",
   "execution_count": null,
   "metadata": {},
   "outputs": [],
   "source": [
    "\"\"\"\n",
    "Exercise 6 - comments\n",
    "\"\"\"\n",
    "# this is a comment\n",
    "# set the variable pi to 3.14\n",
    "pi = 3.14\n",
    "\n",
    "pi = 3.14 # set the variable pi to 3.14"
   ]
  },
  {
   "cell_type": "code",
   "execution_count": 19,
   "metadata": {
    "tags": []
   },
   "outputs": [
    {
     "output_type": "stream",
     "name": "stdout",
     "text": "5.385164807134504\n"
    }
   ],
   "source": [
    "\"\"\"\n",
    "Activity 2 - this is a program to leverage the Pythagorean Theorem\n",
    "\"\"\"\n",
    "# initialize variables\n",
    "x, y, z = 2, 3, 4\n",
    "\n",
    "# square the variables, obtain the square root to find the distance\n",
    "print(((x ** 2) + (y ** 2) + (z ** 2)) ** .5)"
   ]
  },
  {
   "cell_type": "code",
   "execution_count": 1,
   "metadata": {},
   "outputs": [
    {
     "output_type": "error",
     "ename": "SyntaxError",
     "evalue": "EOL while scanning string literal (<ipython-input-1-9e3513540be3>, line 5)",
     "traceback": [
      "\u001b[0;36m  File \u001b[0;32m\"<ipython-input-1-9e3513540be3>\"\u001b[0;36m, line \u001b[0;32m5\u001b[0m\n\u001b[0;31m    bookstore = 'City Lights\" # invalid string creation\u001b[0m\n\u001b[0m                                                       ^\u001b[0m\n\u001b[0;31mSyntaxError\u001b[0m\u001b[0;31m:\u001b[0m EOL while scanning string literal\n"
     ]
    }
   ],
   "source": [
    "\"\"\"\n",
    "Exercise 7 - creating strings\n",
    "\"\"\"\n",
    "bookstore = 'City Lights'\n",
    "bookstore = 'City Lights\" # invalid string creation\n",
    "bookstore = \"Moe's \"\n",
    "bookstore = 'Moe's' # Another invalid string creation"
   ]
  },
  {
   "cell_type": "code",
   "execution_count": 2,
   "metadata": {
    "tags": []
   },
   "outputs": [
    {
     "output_type": "stream",
     "name": "stdout",
     "text": "hello\n"
    }
   ],
   "source": [
    "\"\"\"\n",
    "Exercise 8 - string concatenation and manipulation\n",
    "\"\"\"\n",
    "greeting = \"Hello\"\n",
    "print(greeting) # this prints the value of the variable"
   ]
  },
  {
   "cell_type": "code",
   "execution_count": 3,
   "metadata": {},
   "outputs": [
    {
     "output_type": "execute_result",
     "data": {
      "text/plain": "'hello'"
     },
     "metadata": {},
     "execution_count": 3
    }
   ],
   "source": [
    "greeting # this accesses the value of the variable "
   ]
  },
  {
   "cell_type": "code",
   "execution_count": 5,
   "metadata": {
    "tags": []
   },
   "outputs": [
    {
     "output_type": "stream",
     "name": "stdout",
     "text": "Hola\n"
    }
   ],
   "source": [
    "spanish_greeting = 'Hola'\n",
    "print(spanish_greeting)\n",
    "arabic_greeting = 'Ahlan wa sahlan'"
   ]
  },
  {
   "cell_type": "code",
   "execution_count": 6,
   "metadata": {
    "tags": []
   },
   "outputs": [
    {
     "output_type": "stream",
     "name": "stdout",
     "text": "HolaSenor\n"
    }
   ],
   "source": [
    "\"\"\"\n",
    "Exercise 9 - string concatenation and manipulation\n",
    "\"\"\"\n",
    "print(spanish_greeting + 'Senor')"
   ]
  },
  {
   "cell_type": "code",
   "execution_count": 7,
   "metadata": {
    "tags": []
   },
   "outputs": [
    {
     "output_type": "stream",
     "name": "stdout",
     "text": "Hola Senor\n"
    }
   ],
   "source": [
    "print(spanish_greeting + ' Senor')"
   ]
  },
  {
   "cell_type": "code",
   "execution_count": 9,
   "metadata": {
    "tags": []
   },
   "outputs": [
    {
     "output_type": "stream",
     "name": "stdout",
     "text": "hellohellohellohellohello\n"
    }
   ],
   "source": [
    "print(greeting * 5)"
   ]
  },
  {
   "cell_type": "code",
   "execution_count": 11,
   "metadata": {
    "tags": []
   },
   "outputs": [
    {
     "output_type": "stream",
     "name": "stdout",
     "text": "corey\nCOREY\nCorey\n1\n5\n"
    }
   ],
   "source": [
    "\"\"\"\n",
    "Exercise 10 - string methods\n",
    "\"\"\"\n",
    "name = \"Corey\"\n",
    "print(name.lower())\n",
    "print(name.upper())\n",
    "print(name.capitalize())\n",
    "print(name.count('o'))\n",
    "print(len(name))"
   ]
  },
  {
   "cell_type": "code",
   "execution_count": 12,
   "metadata": {
    "tags": []
   },
   "outputs": [
    {
     "output_type": "stream",
     "name": "stdout",
     "text": "<class 'str'>\n57\n5\n12\n"
    }
   ],
   "source": [
    "\"\"\"\n",
    "Exercise 11 - casting types\n",
    "\"\"\"\n",
    "print(type('5'))\n",
    "print('5' + '7')\n",
    "print(int('5'))\n",
    "print(int('5') + int('7'))"
   ]
  },
  {
   "cell_type": "code",
   "execution_count": 16,
   "metadata": {
    "tags": []
   },
   "outputs": [
    {
     "output_type": "stream",
     "name": "stdout",
     "text": "What is your name? \nHello, Aaron.\n"
    }
   ],
   "source": [
    "\"\"\"\n",
    "Exercise 12 - input function\n",
    "\"\"\"\n",
    "print('What is your name? ')\n",
    "name = input()\n",
    "print('Hello, ' + name + '.')"
   ]
  },
  {
   "cell_type": "code",
   "execution_count": 20,
   "metadata": {
    "tags": []
   },
   "outputs": [
    {
     "output_type": "stream",
     "name": "stdout",
     "text": "5 huh. That sounds like a rough day\n"
    }
   ],
   "source": [
    "\"\"\"\n",
    "Activity 3 - input function\n",
    "\"\"\"\n",
    "rating = input('On a scale of 1 - 10, how has your day been?') # obtains user's day rating\n",
    "print(rating + ' huh. That sounds like a rough day')"
   ]
  },
  {
   "cell_type": "code",
   "execution_count": 23,
   "metadata": {
    "tags": []
   },
   "outputs": [
    {
     "output_type": "stream",
     "name": "stdout",
     "text": "<class 'bool'>\n<class 'bool'>\n"
    }
   ],
   "source": [
    "\"\"\"\n",
    "Exercise 13 - boolean variables\n",
    "\"\"\"\n",
    "over_18 = True\n",
    "print(type(over_18))\n",
    "over_21 = False\n",
    "print(type(over_21))"
   ]
  },
  {
   "cell_type": "code",
   "execution_count": null,
   "metadata": {},
   "outputs": [],
   "source": []
  }
 ]
}