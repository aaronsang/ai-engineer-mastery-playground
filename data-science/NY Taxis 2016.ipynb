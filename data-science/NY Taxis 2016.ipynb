{
 "cells": [
  {
   "cell_type": "markdown",
   "metadata": {},
   "source": [
    "# New York Taxi Rides\n",
    "\n",
    "The purpose of this project is to analyze a dataset consisting of approximately 90,000 taxi cab rides that took place in New York in June of 2016. This is my first project learning and utilizing NumPy."
   ]
  },
  {
   "cell_type": "code",
   "execution_count": 1,
   "metadata": {},
   "outputs": [
    {
     "name": "stdout",
     "output_type": "stream",
     "text": [
      "There are 89560 rows and 15 columns:  \n",
      "\n",
      "(0, 'pickup_year')\n",
      "(1, 'pickup_month')\n",
      "(2, 'pickup_day')\n",
      "(3, 'pickup_dayofweek')\n",
      "(4, 'pickup_time')\n",
      "(5, 'pickup_location_code')\n",
      "(6, 'dropoff_location_code')\n",
      "(7, 'trip_distance')\n",
      "(8, 'trip_length')\n",
      "(9, 'fare_amount')\n",
      "(10, 'fees_amount')\n",
      "(11, 'tolls_amount')\n",
      "(12, 'tip_amount')\n",
      "(13, 'total_amount')\n",
      "(14, 'payment_type')\n"
     ]
    }
   ],
   "source": [
    "# import csv, numpy; create ndarray of dataset\n",
    "\n",
    "import csv\n",
    "import numpy as np\n",
    "np.set_printoptions(suppress=True)\n",
    "\n",
    "opened_file = open(r'C:\\Users\\asang\\Downloads\\nyc_taxis.csv', 'r')\n",
    "taxi_list = list(csv.reader(opened_file))\n",
    "taxi_header, taxi = taxi_list[0], taxi_list[1:]\n",
    "\n",
    "# Convert all values to floats\n",
    "converted_taxi = []\n",
    "for row in taxi:\n",
    "    converted_row = []\n",
    "    for each_item in row:\n",
    "        converted_row.append(float(each_item))\n",
    "    converted_taxi.append(converted_row)\n",
    "    \n",
    "taxi = np.array(converted_taxi)\n",
    "taxi_shape = taxi.shape\n",
    "print('There are {} rows and {} columns: '.format(taxi_shape[0], taxi_shape[1]), '\\n')\n",
    "\n",
    "for label in enumerate(taxi_header):\n",
    "    print(label)"
   ]
  },
  {
   "cell_type": "markdown",
   "metadata": {},
   "source": [
    "***\n",
    "Next I will calculate the sum of fares and fees."
   ]
  },
  {
   "cell_type": "code",
   "execution_count": 2,
   "metadata": {},
   "outputs": [
    {
     "name": "stdout",
     "output_type": "stream",
     "text": [
      "[52.8 46.3 37.8 ... 52.8 35.8 49.3]\n"
     ]
    }
   ],
   "source": [
    "fares = taxi[:, 9]\n",
    "fees = taxi[:, 10]\n",
    "fares_and_fees = fares + fees\n",
    "print(fares_and_fees)"
   ]
  },
  {
   "cell_type": "markdown",
   "metadata": {},
   "source": [
    "***\n",
    "Calculating the average travel speed of each trip in miles per hour would be useful."
   ]
  },
  {
   "cell_type": "code",
   "execution_count": 3,
   "metadata": {},
   "outputs": [
    {
     "name": "stdout",
     "output_type": "stream",
     "text": [
      "The max mph is 82800.0, and the average mph is 32.24258580925573\n"
     ]
    }
   ],
   "source": [
    "trip_distance_miles = taxi[:, 7]\n",
    "trip_length_hours = taxi[:, 8] / 3600\n",
    "\n",
    "trip_mph = trip_distance_miles / trip_length_hours\n",
    "mph_max = trip_mph.max()\n",
    "mph_mean = trip_mph.mean()\n",
    "\n",
    "print(\"The max mph is {}, and the average mph is {}\".format(mph_max, mph_mean))"
   ]
  },
  {
   "cell_type": "markdown",
   "metadata": {},
   "source": [
    "***\n",
    "Now I will do some statistical analysis on specific columns to verify the total amounts are accurate."
   ]
  },
  {
   "cell_type": "code",
   "execution_count": 21,
   "metadata": {},
   "outputs": [
    {
     "name": "stdout",
     "output_type": "stream",
     "text": [
      "['fare_amount', 'fees_amount', 'tolls_amount', 'tip_amount'] \n",
      "\n",
      "[[52.    0.8   5.54 11.65]\n",
      " [45.    1.3   0.    8.  ]\n",
      " [36.5   1.3   0.    0.  ]\n",
      " [26.    1.3   0.    5.46]\n",
      " [17.5   1.3   0.    0.  ]] \n",
      "\n",
      "[69.99 54.3  37.8  32.76 18.8 ] \n",
      "\n",
      "[69.99 54.3  37.8  32.76 18.8 ]\n"
     ]
    }
   ],
   "source": [
    "taxi_first_five = taxi[:5]\n",
    "fare_components = taxi_first_five[:, 9:13]\n",
    "print(taxi_header[9:13], '\\n')\n",
    "print(fare_components, '\\n')\n",
    "\n",
    "fare_sums = fare_components.sum(axis=1)\n",
    "print(fare_sums, '\\n')\n",
    "fare_totals = taxi_first_five[:, 13]\n",
    "print(fare_totals)"
   ]
  },
  {
   "cell_type": "markdown",
   "metadata": {},
   "source": [
    "Verified that the data in the fare totals column is accurate.\n",
    "***"
   ]
  },
  {
   "cell_type": "code",
   "execution_count": null,
   "metadata": {},
   "outputs": [],
   "source": []
  }
 ],
 "metadata": {
  "kernelspec": {
   "display_name": "Python 3",
   "language": "python",
   "name": "python3"
  },
  "language_info": {
   "codemirror_mode": {
    "name": "ipython",
    "version": 3
   },
   "file_extension": ".py",
   "mimetype": "text/x-python",
   "name": "python",
   "nbconvert_exporter": "python",
   "pygments_lexer": "ipython3",
   "version": "3.7.6"
  }
 },
 "nbformat": 4,
 "nbformat_minor": 4
}
