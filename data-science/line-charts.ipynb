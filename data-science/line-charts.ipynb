{
 "metadata": {
  "language_info": {
   "codemirror_mode": {
    "name": "ipython",
    "version": 3
   },
   "file_extension": ".py",
   "mimetype": "text/x-python",
   "name": "python",
   "nbconvert_exporter": "python",
   "pygments_lexer": "ipython3",
   "version": "3.7.7-final"
  },
  "orig_nbformat": 2,
  "kernelspec": {
   "name": "python3",
   "display_name": "Python 3"
  }
 },
 "nbformat": 4,
 "nbformat_minor": 2,
 "cells": [
  {
   "cell_type": "markdown",
   "metadata": {},
   "source": [
    "# Exploratory Data Visualization\n",
    "## Line Charts"
   ]
  },
  {
   "cell_type": "code",
   "execution_count": 12,
   "metadata": {},
   "outputs": [],
   "source": [
    "import pandas as pd"
   ]
  },
  {
   "cell_type": "code",
   "execution_count": 13,
   "metadata": {},
   "outputs": [],
   "source": [
    "unrate = pd.read_csv('https://raw.githubusercontent.com/aaronsang/data-science-ml-dl-ai-mastery/master/data/unrate.csv')"
   ]
  },
  {
   "cell_type": "code",
   "execution_count": 14,
   "metadata": {
    "tags": []
   },
   "outputs": [],
   "source": [
    "unrate.loc[:, 'DATE'] = pd.to_datetime(unrate.loc[:, 'DATE'])"
   ]
  },
  {
   "cell_type": "code",
   "execution_count": 15,
   "metadata": {},
   "outputs": [
    {
     "output_type": "execute_result",
     "data": {
      "text/plain": "         DATE  VALUE\n0  1948-01-01    3.4\n1  1948-02-01    3.8\n2  1948-03-01    4.0\n3  1948-04-01    3.9\n4  1948-05-01    3.5\n5  1948-06-01    3.6\n6  1948-07-01    3.6\n7  1948-08-01    3.9\n8  1948-09-01    3.8\n9  1948-10-01    3.7\n10 1948-11-01    3.8\n11 1948-12-01    4.0",
      "text/html": "<div>\n<style scoped>\n    .dataframe tbody tr th:only-of-type {\n        vertical-align: middle;\n    }\n\n    .dataframe tbody tr th {\n        vertical-align: top;\n    }\n\n    .dataframe thead th {\n        text-align: right;\n    }\n</style>\n<table border=\"1\" class=\"dataframe\">\n  <thead>\n    <tr style=\"text-align: right;\">\n      <th></th>\n      <th>DATE</th>\n      <th>VALUE</th>\n    </tr>\n  </thead>\n  <tbody>\n    <tr>\n      <th>0</th>\n      <td>1948-01-01</td>\n      <td>3.4</td>\n    </tr>\n    <tr>\n      <th>1</th>\n      <td>1948-02-01</td>\n      <td>3.8</td>\n    </tr>\n    <tr>\n      <th>2</th>\n      <td>1948-03-01</td>\n      <td>4.0</td>\n    </tr>\n    <tr>\n      <th>3</th>\n      <td>1948-04-01</td>\n      <td>3.9</td>\n    </tr>\n    <tr>\n      <th>4</th>\n      <td>1948-05-01</td>\n      <td>3.5</td>\n    </tr>\n    <tr>\n      <th>5</th>\n      <td>1948-06-01</td>\n      <td>3.6</td>\n    </tr>\n    <tr>\n      <th>6</th>\n      <td>1948-07-01</td>\n      <td>3.6</td>\n    </tr>\n    <tr>\n      <th>7</th>\n      <td>1948-08-01</td>\n      <td>3.9</td>\n    </tr>\n    <tr>\n      <th>8</th>\n      <td>1948-09-01</td>\n      <td>3.8</td>\n    </tr>\n    <tr>\n      <th>9</th>\n      <td>1948-10-01</td>\n      <td>3.7</td>\n    </tr>\n    <tr>\n      <th>10</th>\n      <td>1948-11-01</td>\n      <td>3.8</td>\n    </tr>\n    <tr>\n      <th>11</th>\n      <td>1948-12-01</td>\n      <td>4.0</td>\n    </tr>\n  </tbody>\n</table>\n</div>"
     },
     "metadata": {},
     "execution_count": 15
    }
   ],
   "source": [
    "unrate.head(12)"
   ]
  },
  {
   "cell_type": "code",
   "execution_count": null,
   "metadata": {},
   "outputs": [],
   "source": []
  }
 ]
}
