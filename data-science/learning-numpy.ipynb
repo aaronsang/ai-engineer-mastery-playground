{
 "metadata": {
  "language_info": {
   "codemirror_mode": {
    "name": "ipython",
    "version": 3
   },
   "file_extension": ".py",
   "mimetype": "text/x-python",
   "name": "python",
   "nbconvert_exporter": "python",
   "pygments_lexer": "ipython3",
   "version": "3.8.3-final"
  },
  "orig_nbformat": 2,
  "kernelspec": {
   "name": "python_defaultSpec_1599102393789",
   "display_name": "Python 3.8.3 64-bit ('base': conda)"
  }
 },
 "nbformat": 4,
 "nbformat_minor": 2,
 "cells": [
  {
   "cell_type": "markdown",
   "metadata": {},
   "source": [
    "# Learning NumPy\n",
    "Done using numpy.org via the absolute beginner guide.\n",
    "- Vectors and matrices are created from the `ndarray` class.\n",
    "- Dimensions are called `axes`.\n"
   ]
  },
  {
   "cell_type": "markdown",
   "metadata": {},
   "source": [
    "### Getting started with arrays"
   ]
  },
  {
   "cell_type": "code",
   "execution_count": 12,
   "metadata": {},
   "outputs": [],
   "source": [
    "import numpy as np"
   ]
  },
  {
   "cell_type": "code",
   "execution_count": 26,
   "metadata": {},
   "outputs": [],
   "source": [
    "a = np.array([1, 2, 3, 4, 5, 6]) # 1-dimensional array is called a vector\n",
    "b = np.array([[1, 2, 3], [4, 5, 6], [7, 8, 9]]) # # 2-dimensional array is called a matrix\n",
    "c = np.array([[[1, 1, 1], \n",
    "               [2, 2, 2],\n",
    "               [3, 3, 3]],\n",
    "\n",
    "              [[1, 1, 1], \n",
    "               [2, 2, 2],\n",
    "               [3, 3, 3]]]) # < 2-dimensional array is commonly called a tensor"
   ]
  },
  {
   "cell_type": "code",
   "execution_count": 27,
   "metadata": {
    "tags": []
   },
   "outputs": [
    {
     "output_type": "stream",
     "name": "stdout",
     "text": "(6,)\n(3, 3)\n(2, 3, 3)\n"
    }
   ],
   "source": [
    "print(a.shape)\n",
    "print(b.shape)\n",
    "print(c.shape)"
   ]
  },
  {
   "cell_type": "code",
   "execution_count": 22,
   "metadata": {
    "tags": []
   },
   "outputs": [
    {
     "output_type": "stream",
     "name": "stdout",
     "text": "[4 5 6]\n"
    }
   ],
   "source": [
    "print(b[1]) # accesses 2nd array in the matrix"
   ]
  },
  {
   "cell_type": "markdown",
   "metadata": {},
   "source": [
    "### How to create basic arrays"
   ]
  },
  {
   "cell_type": "code",
   "execution_count": 28,
   "metadata": {},
   "outputs": [],
   "source": [
    "a = np.array([1, 2, 3]) # python lists can be passed in"
   ]
  },
  {
   "cell_type": "code",
   "execution_count": 39,
   "metadata": {
    "tags": []
   },
   "outputs": [
    {
     "output_type": "stream",
     "name": "stdout",
     "text": "[0. 0. 0. 0. 0.]\n"
    }
   ],
   "source": [
    "print(np.zeros(5)) # creates an array of zeros"
   ]
  },
  {
   "cell_type": "code",
   "execution_count": 40,
   "metadata": {
    "tags": []
   },
   "outputs": [
    {
     "output_type": "stream",
     "name": "stdout",
     "text": "[[[0. 0. 0.]\n  [0. 0. 0.]\n  [0. 0. 0.]\n  [0. 0. 0.]\n  [0. 0. 0.]]\n\n [[0. 0. 0.]\n  [0. 0. 0.]\n  [0. 0. 0.]\n  [0. 0. 0.]\n  [0. 0. 0.]]]\n"
    }
   ],
   "source": [
    "# pass a list of dimensions to specify size:\n",
    "print(np.zeros([2, 5, 3]))"
   ]
  },
  {
   "cell_type": "code",
   "execution_count": 31,
   "metadata": {},
   "outputs": [
    {
     "output_type": "execute_result",
     "data": {
      "text/plain": "array([1., 1., 1.])"
     },
     "metadata": {},
     "execution_count": 31
    }
   ],
   "source": [
    "np.ones(3) # creates an array of ones"
   ]
  },
  {
   "cell_type": "code",
   "execution_count": 32,
   "metadata": {},
   "outputs": [
    {
     "output_type": "execute_result",
     "data": {
      "text/plain": "array([1.72723371e-077, 1.29073941e-231, 1.73059733e-077, 2.82469002e-309])"
     },
     "metadata": {},
     "execution_count": 32
    }
   ],
   "source": [
    "np.empty(4) # creates an array from random digits in memory"
   ]
  },
  {
   "cell_type": "code",
   "execution_count": 41,
   "metadata": {},
   "outputs": [
    {
     "output_type": "execute_result",
     "data": {
      "text/plain": "array([0, 1, 2, 3])"
     },
     "metadata": {},
     "execution_count": 41
    }
   ],
   "source": [
    "# create an array with a specified range:\n",
    "np.arange(4) # 1-dimensional up to 4 exclusive"
   ]
  },
  {
   "cell_type": "code",
   "execution_count": 42,
   "metadata": {},
   "outputs": [
    {
     "output_type": "execute_result",
     "data": {
      "text/plain": "array([0, 1, 2, 3, 4, 5, 6, 7, 8, 9])"
     },
     "metadata": {},
     "execution_count": 42
    }
   ],
   "source": [
    "np.arange(10) # 1-dimensional array up to 10 exclusive"
   ]
  },
  {
   "cell_type": "code",
   "execution_count": 43,
   "metadata": {},
   "outputs": [
    {
     "output_type": "execute_result",
     "data": {
      "text/plain": "array([ 2,  4,  6,  8, 10, 12, 14, 16, 18])"
     },
     "metadata": {},
     "execution_count": 43
    }
   ],
   "source": [
    "# just like with python range function, you can specify start, stop, and step:\n",
    "np.arange(2, 20, 2)"
   ]
  },
  {
   "cell_type": "code",
   "execution_count": 45,
   "metadata": {},
   "outputs": [
    {
     "output_type": "execute_result",
     "data": {
      "text/plain": "array([ 0.        ,  2.22222222,  4.44444444,  6.66666667,  8.88888889,\n       11.11111111, 13.33333333, 15.55555556, 17.77777778, 20.        ])"
     },
     "metadata": {},
     "execution_count": 45
    }
   ],
   "source": [
    "# this creates an array, and you get to specify the start and stop, and the num keyword specifies how many elements should be used to fill the specified range:\n",
    "np.linspace(0, 20, num=10) # this says to have 10 elements starting from 0 to 20"
   ]
  },
  {
   "cell_type": "code",
   "execution_count": 49,
   "metadata": {},
   "outputs": [
    {
     "output_type": "execute_result",
     "data": {
      "text/plain": "array([0, 1, 2])"
     },
     "metadata": {},
     "execution_count": 49
    }
   ],
   "source": [
    "# data type can be specified when creating arrays:\n",
    "x = np.arange(3, dtype=np.int64)\n",
    "x"
   ]
  },
  {
   "cell_type": "markdown",
   "metadata": {},
   "source": [
    "### Adding, removing, and sorting elements"
   ]
  },
  {
   "cell_type": "code",
   "execution_count": 50,
   "metadata": {},
   "outputs": [
    {
     "output_type": "execute_result",
     "data": {
      "text/plain": "array([0, 2, 3, 4, 6, 7, 8])"
     },
     "metadata": {},
     "execution_count": 50
    }
   ],
   "source": [
    "arr = np.array([6, 4, 7, 8, 2, 3, 0])\n",
    "np.sort(arr) # this functions sorts an array numerically"
   ]
  },
  {
   "cell_type": "code",
   "execution_count": 54,
   "metadata": {},
   "outputs": [
    {
     "output_type": "execute_result",
     "data": {
      "text/plain": "array([1, 2, 3, 4, 5, 6, 7, 8])"
     },
     "metadata": {},
     "execution_count": 54
    }
   ],
   "source": [
    "# in order to concatenate arrays, use the np.concatenate function and passing the arrays as a tuple:\n",
    "a = np.array([1, 2, 3, 4])\n",
    "b = np.array([5, 6, 7, 8])\n",
    "np.concatenate((a, b))"
   ]
  },
  {
   "cell_type": "code",
   "execution_count": 56,
   "metadata": {},
   "outputs": [
    {
     "output_type": "execute_result",
     "data": {
      "text/plain": "array([[1, 2],\n       [4, 5],\n       [5, 6]])"
     },
     "metadata": {},
     "execution_count": 56
    }
   ],
   "source": [
    "x = np.array([[1, 2], [4, 5]])\n",
    "y = np.array([[5, 6]])\n",
    "np.concatenate((x, y))"
   ]
  },
  {
   "cell_type": "markdown",
   "metadata": {},
   "source": [
    "In order to remove elements from an array, it’s simple to use indexing to select the elements that you want to keep."
   ]
  },
  {
   "cell_type": "markdown",
   "metadata": {},
   "source": [
    "### How to know the size and shape of an array"
   ]
  },
  {
   "cell_type": "code",
   "execution_count": null,
   "metadata": {},
   "outputs": [],
   "source": []
  }
 ]
}
