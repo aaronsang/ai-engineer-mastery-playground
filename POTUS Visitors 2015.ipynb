{
 "cells": [
  {
   "cell_type": "markdown",
   "metadata": {},
   "source": [
    "# 2015 Visitors to the White House\n",
    "\n",
    "The goal for this project was to analyze a dataset that consisted of visitors to the white house. It was to gain additional hands on experience working with the datetime module.\n",
    "***"
   ]
  },
  {
   "cell_type": "markdown",
   "metadata": {},
   "source": [
    "First I created a list of the CSV file that contained the white house visitor records for the year 2015. Then separated out the header row."
   ]
  },
  {
   "cell_type": "code",
   "execution_count": 1,
   "metadata": {},
   "outputs": [],
   "source": [
    "import datetime as dt\n",
    "from csv import reader\n",
    "\n",
    "file = open('potus_visitors_2015.csv')\n",
    "file = reader(file)\n",
    "potus = list(file)\n",
    "potus_header = potus[0]\n",
    "potus = potus[1:]"
   ]
  },
  {
   "cell_type": "code",
   "execution_count": 2,
   "metadata": {},
   "outputs": [
    {
     "name": "stdout",
     "output_type": "stream",
     "text": [
      "['name', 'appt_made_date', 'appt_start_date', 'appt_end_date', 'visitee_namelast', 'visitee_namefirst', 'meeting_room', 'description']\n",
      "\n",
      "['Bradley T. Guiles', '2014-12-18T00:00:00', '1/6/15 9:30', '1/6/15 23:59', '', 'potus', 'west wing', 'JointService Military Honor Guard']\n",
      "\n",
      "['Loryn F. Grieb', '2014-12-18T00:00:00', '1/6/15 9:30', '1/6/15 23:59', '', 'potus', 'west wing', 'JointService Military Honor Guard']\n",
      "\n",
      "['Travis D. Gordon', '2014-12-18T00:00:00', '1/6/15 9:30', '1/6/15 23:59', '', 'potus', 'west wing', 'JointService Military Honor Guard']\n",
      "\n",
      "['Taylor D. Gibbs', '2014-12-18T00:00:00', '1/6/15 9:30', '1/6/15 23:59', '', 'potus', 'west wing', 'JointService Military Honor Guard']\n",
      "\n"
     ]
    }
   ],
   "source": [
    "print(potus_header) # Separated header row\n",
    "print()\n",
    "\n",
    "for item in potus[2:6]: # Print a few rows to analyze dataset\n",
    "    print(item)\n",
    "    print()"
   ]
  },
  {
   "cell_type": "markdown",
   "metadata": {},
   "source": [
    "To confirm the date format, I referenced the last row:"
   ]
  },
  {
   "cell_type": "code",
   "execution_count": 3,
   "metadata": {},
   "outputs": [
    {
     "name": "stdout",
     "output_type": "stream",
     "text": [
      "12/18/15 16:30\n"
     ]
    }
   ],
   "source": [
    "print(potus[-1][2])"
   ]
  },
  {
   "cell_type": "markdown",
   "metadata": {},
   "source": [
    "I confirmed the format is month/day/year 24 time format. I then needed to turn the dates into datetime objects so that I could analyze them more effectively."
   ]
  },
  {
   "cell_type": "code",
   "execution_count": 4,
   "metadata": {},
   "outputs": [],
   "source": [
    "date_format = '%m/%d/%y %H:%M'\n",
    "\n",
    "for row in potus:\n",
    "    appointment_start = row[2]\n",
    "    appointment_start = dt.datetime.strptime(appointment_start, date_format)\n",
    "    row[2] = appointment_start"
   ]
  },
  {
   "cell_type": "markdown",
   "metadata": {},
   "source": [
    "Next, I needed to learn the frequency of visitors on a per month basis."
   ]
  },
  {
   "cell_type": "code",
   "execution_count": 5,
   "metadata": {},
   "outputs": [
    {
     "name": "stdout",
     "output_type": "stream",
     "text": [
      "For January, 2015, there were 1,248 visitors.\n",
      "For February, 2015, there were 2,165 visitors.\n",
      "For March, 2015, there were 2,262 visitors.\n",
      "For April, 2015, there were 4,996 visitors.\n",
      "For May, 2015, there were 3,013 visitors.\n",
      "For June, 2015, there were 7,743 visitors.\n",
      "For July, 2015, there were 2,930 visitors.\n",
      "For August, 2015, there were 1,350 visitors.\n",
      "For September, 2015, there were 4,416 visitors.\n",
      "For October, 2015, there were 3,669 visitors.\n",
      "For November, 2015, there were 1,133 visitors.\n",
      "For December, 2015, there were 13,029 visitors.\n"
     ]
    }
   ],
   "source": [
    "visitors_per_month = {}\n",
    "\n",
    "for row in potus:\n",
    "    appt = row[2]\n",
    "    appt = appt.strftime('%B, %Y')\n",
    "    if appt not in visitors_per_month:\n",
    "        visitors_per_month[appt] = 1\n",
    "    else:\n",
    "        visitors_per_month[appt] += 1\n",
    "        \n",
    "for date, count in visitors_per_month.items():\n",
    "    print(f'For {date}, there were {count:,} visitors.', end='\\n')"
   ]
  },
  {
   "cell_type": "markdown",
   "metadata": {},
   "source": [
    "Now I wanted to learn the various appointment times."
   ]
  },
  {
   "cell_type": "code",
   "execution_count": 6,
   "metadata": {},
   "outputs": [],
   "source": [
    "appt_times = []\n",
    "\n",
    "for row in potus:\n",
    "    appt_t = row[2]\n",
    "    appt_t = appt_t.time()\n",
    "    appt_times.append(appt_t)\n",
    "    \n",
    "min_time = min(appt_times)\n",
    "max_time = max(appt_times)"
   ]
  },
  {
   "cell_type": "markdown",
   "metadata": {},
   "source": [
    "My final analysis was to learn the length of each meeting that took place."
   ]
  },
  {
   "cell_type": "code",
   "execution_count": 7,
   "metadata": {},
   "outputs": [
    {
     "name": "stdout",
     "output_type": "stream",
     "text": [
      "Quickest visit:  2:29:00\n",
      "Longest visit:  16 days, 12:59:00\n"
     ]
    }
   ],
   "source": [
    "for row in potus:\n",
    "    end_appt = row[3]\n",
    "    end_appt = dt.datetime.strptime(end_appt, date_format)\n",
    "    row[3] = end_appt\n",
    "\n",
    "appt_lengths = {}\n",
    "\n",
    "for row in potus:\n",
    "    appt_start = row[2]\n",
    "    appt_end = row[3]\n",
    "    length = appt_end - appt_start\n",
    "    if length not in appt_lengths:\n",
    "        appt_lengths[length] = 1\n",
    "    else:\n",
    "        appt_lengths[length] += 1\n",
    "        \n",
    "min_length = min(appt_lengths)\n",
    "max_length = max(appt_lengths)\n",
    "\n",
    "print('Quickest visit: ', min_length)\n",
    "print('Longest visit: ', max_length)"
   ]
  }
 ],
 "metadata": {
  "kernelspec": {
   "display_name": "Python 3",
   "language": "python",
   "name": "python3"
  },
  "language_info": {
   "codemirror_mode": {
    "name": "ipython",
    "version": 3
   },
   "file_extension": ".py",
   "mimetype": "text/x-python",
   "name": "python",
   "nbconvert_exporter": "python",
   "pygments_lexer": "ipython3",
   "version": "3.7.6"
  }
 },
 "nbformat": 4,
 "nbformat_minor": 4
}
