{
 "metadata": {
  "language_info": {
   "codemirror_mode": {
    "name": "ipython",
    "version": 3
   },
   "file_extension": ".py",
   "mimetype": "text/x-python",
   "name": "python",
   "nbconvert_exporter": "python",
   "pygments_lexer": "ipython3",
   "version": "3.8.5-final"
  },
  "orig_nbformat": 2,
  "kernelspec": {
   "name": "Python 3.8.5 64-bit (conda)",
   "display_name": "Python 3.8.5 64-bit (conda)",
   "metadata": {
    "interpreter": {
     "hash": "79c18224d12f97f0b36cd7a91ff1ee9b6dfb1af43398a75a74dc5974ea9eb47c"
    }
   }
  }
 },
 "nbformat": 4,
 "nbformat_minor": 2,
 "cells": [
  {
   "source": [
    "# Day 3 - Control Flow"
   ],
   "cell_type": "markdown",
   "metadata": {}
  },
  {
   "cell_type": "code",
   "execution_count": 29,
   "metadata": {},
   "outputs": [
    {
     "output_type": "stream",
     "name": "stdout",
     "text": [
      "Welcome to the roller coaster!\n",
      "You can ride the rollercoaster!\n",
      "Everything will be okay. Have a free ride on us.\n",
      "Your final bill is $0.\n"
     ]
    }
   ],
   "source": [
    "\"\"\" Ride the roller coaster \"\"\"\n",
    "\n",
    "print('Welcome to the roller coaster!')\n",
    "height = int(input('How tall are you in CM? '))\n",
    "bill = 0\n",
    "\n",
    "if height >= 120:\n",
    "    print('You can ride the rollercoaster!')\n",
    "    age = int(input('And what is your age? '))\n",
    "    if age < 12:\n",
    "        print('Child ticket is $5.')\n",
    "        bill += 5\n",
    "    elif age < 18:\n",
    "        print('Teen ticket is $7.')\n",
    "        bill += 7\n",
    "    elif age >= 45 and age <= 55:\n",
    "        print('Everything will be okay. Have a free ride on us.')\n",
    "    else:\n",
    "        print('Adult ticket is $12.')\n",
    "        bill += 12\n",
    "\n",
    "    wants_photo = input('Do you want a photo of your roller coaster ride? Please enter Y or N.')\n",
    "    if wants_photo == 'Y':\n",
    "        bill += 3\n",
    "    print(f'Your final bill is ${bill}.')\n",
    "else:\n",
    "    print('Sorry, you need to grow taller to ride.')"
   ]
  },
  {
   "cell_type": "code",
   "execution_count": 8,
   "metadata": {},
   "outputs": [
    {
     "output_type": "stream",
     "name": "stdout",
     "text": [
      "Hello! Welcome to the number advisor.\n",
      "You're number is an odd number.\n"
     ]
    }
   ],
   "source": [
    "\"\"\" Is this number odd or even? \"\"\"\n",
    "\n",
    "print('Hello! Welcome to the number advisor.')\n",
    "number = int(input('What is your number? '))\n",
    "\n",
    "if number % 2 == 0:\n",
    "    print('Your number is an even number.')\n",
    "else:\n",
    "    print('You\\'re number is an odd number.')"
   ]
  },
  {
   "cell_type": "code",
   "execution_count": 26,
   "metadata": {},
   "outputs": [
    {
     "output_type": "stream",
     "name": "stdout",
     "text": [
      "Not leap year.\n"
     ]
    }
   ],
   "source": [
    "\"\"\" Leap Year Calculator \n",
    "Write a program that works out whether if a given year is a leap year. A normal year has 365 days, leap years have 366, with an extra day in February.\n",
    "\n",
    "Leap year if a year is divisble by 4 except if it's divisible by 100, unless the year is divisble by 400.\n",
    "\"\"\"\n",
    "\n",
    "year = int(input('Welcome. What year would you like me to calculate for you? '))\n",
    "\n",
    "if year % 4 == 0:\n",
    "    if year % 100 == 0:\n",
    "        if year % 400 == 0:\n",
    "            print('Leap year.')\n",
    "        else:\n",
    "            print('Not leap year.')\n",
    "    else:\n",
    "        print('Not leap year.')\n",
    "else:\n",
    "    print('Not leap year.')"
   ]
  },
  {
   "source": [
    "## Final Project - Treasure Island Game - Choose your own adventure"
   ],
   "cell_type": "markdown",
   "metadata": {}
  },
  {
   "cell_type": "code",
   "execution_count": 35,
   "metadata": {},
   "outputs": [
    {
     "output_type": "stream",
     "name": "stdout",
     "text": [
      "\n",
      "*******************************************************************************\n",
      "          |                   |                  |                     |\n",
      " _________|________________.=\"\"_;=.______________|_____________________|_______\n",
      "|                   |  ,-\"_,=\"\"     `\"=.|                  |\n",
      "|___________________|__\"=._o`\"-._        `\"=.______________|___________________\n",
      "          |                `\"=._o`\"=._      _`\"=._                     |\n",
      " _________|_____________________:=._o \"=._.\"_.-=\"'\"=.__________________|_______\n",
      "|                   |    __.--\" , ; `\"=._o.\" ,-\"\"\"-._ \".   |\n",
      "|___________________|_._\"  ,. .` ` `` ,  `\"-._\"-._   \". '__|___________________\n",
      "          |           |o`\"=._` , \"` `; .\". ,  \"-._\"-._; ;              |\n",
      " _________|___________| ;`-.o`\"=._; .\" ` '`.\"\\` . \"-._ /_______________|_______\n",
      "|                   | |o;    `\"-.o`\"=._``  '` \" ,__.--o;   |\n",
      "|___________________|_| ;     (#) `-.o `\"=.`_.--\"_o.-; ;___|___________________\n",
      "____/______/______/___|o;._    \"      `\".o|o_.--\"    ;o;____/______/______/____\n",
      "/______/______/______/_\"=._o--._        ; | ;        ; ;/______/______/______/_\n",
      "____/______/______/______/__\"=._o--._   ;o|o;     _._;o;____/______/______/____\n",
      "/______/______/______/______/____\"=._o._; | ;_.--\"o.--\"_/______/______/______/_\n",
      "____/______/______/______/______/_____\"=.o|o_.--\"\"___/______/______/______/____\n",
      "/______/______/______/______/______/______/______/______/______/______/_____ /\n",
      "*******************************************************************************\n",
      "\n",
      "Welcome to Treasure Island.\n",
      "Your mission is to find the treasure.\n",
      "You win!\n"
     ]
    }
   ],
   "source": [
    "print('''\n",
    "*******************************************************************************\n",
    "          |                   |                  |                     |\n",
    " _________|________________.=\"\"_;=.______________|_____________________|_______\n",
    "|                   |  ,-\"_,=\"\"     `\"=.|                  |\n",
    "|___________________|__\"=._o`\"-._        `\"=.______________|___________________\n",
    "          |                `\"=._o`\"=._      _`\"=._                     |\n",
    " _________|_____________________:=._o \"=._.\"_.-=\"'\"=.__________________|_______\n",
    "|                   |    __.--\" , ; `\"=._o.\" ,-\"\"\"-._ \".   |\n",
    "|___________________|_._\"  ,. .` ` `` ,  `\"-._\"-._   \". '__|___________________\n",
    "          |           |o`\"=._` , \"` `; .\". ,  \"-._\"-._; ;              |\n",
    " _________|___________| ;`-.o`\"=._; .\" ` '`.\"\\` . \"-._ /_______________|_______\n",
    "|                   | |o;    `\"-.o`\"=._``  '` \" ,__.--o;   |\n",
    "|___________________|_| ;     (#) `-.o `\"=.`_.--\"_o.-; ;___|___________________\n",
    "____/______/______/___|o;._    \"      `\".o|o_.--\"    ;o;____/______/______/____\n",
    "/______/______/______/_\"=._o--._        ; | ;        ; ;/______/______/______/_\n",
    "____/______/______/______/__\"=._o--._   ;o|o;     _._;o;____/______/______/____\n",
    "/______/______/______/______/____\"=._o._; | ;_.--\"o.--\"_/______/______/______/_\n",
    "____/______/______/______/______/_____\"=.o|o_.--\"\"___/______/______/______/____\n",
    "/______/______/______/______/______/______/______/______/______/______/_____ /\n",
    "*******************************************************************************\n",
    "''')\n",
    "print(\"Welcome to Treasure Island.\")\n",
    "print(\"Your mission is to find the treasure.\")\n",
    "\n",
    "move = input('Would you like to go left or right? (L or R)\\n')\n",
    "if move == 'L':\n",
    "    move = input('Would you like to swim or wait? (S or W)\\n')\n",
    "    if move == 'W':\n",
    "        move = input('Which door would you like to walk through? Red(R), Blue(B), Yellow(Y)\\n')\n",
    "        if move == 'R':\n",
    "            print('You were burned by fire. Game over.')\n",
    "        elif move == 'Y':\n",
    "            print('You win!')\n",
    "        elif move == 'B':\n",
    "            print('You were eaten by beasts. Game over.')\n",
    "        else:\n",
    "            print('Game over. Loser.')\n",
    "    else:\n",
    "        print('You were eaten by the Kraken. Game over.')\n",
    "else:\n",
    "    print('You fell into a whole. Game over.')"
   ]
  }
 ]
}