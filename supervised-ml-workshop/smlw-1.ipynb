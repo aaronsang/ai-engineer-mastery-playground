{
 "metadata": {
  "language_info": {
   "codemirror_mode": {
    "name": "ipython",
    "version": 3
   },
   "file_extension": ".py",
   "mimetype": "text/x-python",
   "name": "python",
   "nbconvert_exporter": "python",
   "pygments_lexer": "ipython3",
   "version": "3.8.3-final"
  },
  "orig_nbformat": 2,
  "kernelspec": {
   "name": "python_defaultSpec_1598930043753",
   "display_name": "Python 3.8.3 64-bit ('base': conda)"
  }
 },
 "nbformat": 4,
 "nbformat_minor": 2,
 "cells": [
  {
   "cell_type": "markdown",
   "metadata": {},
   "source": [
    "# Supervised ML Workshop\n",
    "## Chapter 1"
   ]
  },
  {
   "cell_type": "code",
   "execution_count": 5,
   "metadata": {},
   "outputs": [],
   "source": [
    "import pandas as pd\n",
    "import numpy as np"
   ]
  },
  {
   "cell_type": "code",
   "execution_count": 6,
   "metadata": {},
   "outputs": [],
   "source": [
    "df = pd.read_csv('https://raw.githubusercontent.com/aaronsang/data-science-ml-dl-ai-mastery/master/data/titanic.csv')"
   ]
  },
  {
   "cell_type": "code",
   "execution_count": 7,
   "metadata": {},
   "outputs": [
    {
     "output_type": "execute_result",
     "data": {
      "text/plain": "   Unnamed: 0 Cabin Embarked     Fare  Pclass            Ticket   Age  \\\n0           0   NaN        S   7.2500       3         A/5 21171  22.0   \n1           1   C85        C  71.2833       1          PC 17599  38.0   \n2           2   NaN        S   7.9250       3  STON/O2. 3101282  26.0   \n3           3  C123        S  53.1000       1            113803  35.0   \n4           4   NaN        S   8.0500       3            373450  35.0   \n5           5   NaN        Q   8.4583       3            330877   NaN   \n6           6   E46        S  51.8625       1             17463  54.0   \n7           7   NaN        S  21.0750       3            349909   2.0   \n8           8   NaN        S  11.1333       3            347742  27.0   \n9           9   NaN        C  30.0708       2            237736  14.0   \n\n                                                Name  Parch     Sex  SibSp  \\\n0                            Braund, Mr. Owen Harris      0    male      1   \n1  Cumings, Mrs. John Bradley (Florence Briggs Th...      0  female      1   \n2                             Heikkinen, Miss. Laina      0  female      0   \n3       Futrelle, Mrs. Jacques Heath (Lily May Peel)      0  female      1   \n4                           Allen, Mr. William Henry      0    male      0   \n5                                   Moran, Mr. James      0    male      0   \n6                            McCarthy, Mr. Timothy J      0    male      0   \n7                     Palsson, Master. Gosta Leonard      1    male      3   \n8  Johnson, Mrs. Oscar W (Elisabeth Vilhelmina Berg)      2  female      0   \n9                Nasser, Mrs. Nicholas (Adele Achem)      0  female      1   \n\n   Survived  \n0       0.0  \n1       1.0  \n2       1.0  \n3       1.0  \n4       0.0  \n5       0.0  \n6       0.0  \n7       0.0  \n8       1.0  \n9       1.0  ",
      "text/html": "<div>\n<style scoped>\n    .dataframe tbody tr th:only-of-type {\n        vertical-align: middle;\n    }\n\n    .dataframe tbody tr th {\n        vertical-align: top;\n    }\n\n    .dataframe thead th {\n        text-align: right;\n    }\n</style>\n<table border=\"1\" class=\"dataframe\">\n  <thead>\n    <tr style=\"text-align: right;\">\n      <th></th>\n      <th>Unnamed: 0</th>\n      <th>Cabin</th>\n      <th>Embarked</th>\n      <th>Fare</th>\n      <th>Pclass</th>\n      <th>Ticket</th>\n      <th>Age</th>\n      <th>Name</th>\n      <th>Parch</th>\n      <th>Sex</th>\n      <th>SibSp</th>\n      <th>Survived</th>\n    </tr>\n  </thead>\n  <tbody>\n    <tr>\n      <th>0</th>\n      <td>0</td>\n      <td>NaN</td>\n      <td>S</td>\n      <td>7.2500</td>\n      <td>3</td>\n      <td>A/5 21171</td>\n      <td>22.0</td>\n      <td>Braund, Mr. Owen Harris</td>\n      <td>0</td>\n      <td>male</td>\n      <td>1</td>\n      <td>0.0</td>\n    </tr>\n    <tr>\n      <th>1</th>\n      <td>1</td>\n      <td>C85</td>\n      <td>C</td>\n      <td>71.2833</td>\n      <td>1</td>\n      <td>PC 17599</td>\n      <td>38.0</td>\n      <td>Cumings, Mrs. John Bradley (Florence Briggs Th...</td>\n      <td>0</td>\n      <td>female</td>\n      <td>1</td>\n      <td>1.0</td>\n    </tr>\n    <tr>\n      <th>2</th>\n      <td>2</td>\n      <td>NaN</td>\n      <td>S</td>\n      <td>7.9250</td>\n      <td>3</td>\n      <td>STON/O2. 3101282</td>\n      <td>26.0</td>\n      <td>Heikkinen, Miss. Laina</td>\n      <td>0</td>\n      <td>female</td>\n      <td>0</td>\n      <td>1.0</td>\n    </tr>\n    <tr>\n      <th>3</th>\n      <td>3</td>\n      <td>C123</td>\n      <td>S</td>\n      <td>53.1000</td>\n      <td>1</td>\n      <td>113803</td>\n      <td>35.0</td>\n      <td>Futrelle, Mrs. Jacques Heath (Lily May Peel)</td>\n      <td>0</td>\n      <td>female</td>\n      <td>1</td>\n      <td>1.0</td>\n    </tr>\n    <tr>\n      <th>4</th>\n      <td>4</td>\n      <td>NaN</td>\n      <td>S</td>\n      <td>8.0500</td>\n      <td>3</td>\n      <td>373450</td>\n      <td>35.0</td>\n      <td>Allen, Mr. William Henry</td>\n      <td>0</td>\n      <td>male</td>\n      <td>0</td>\n      <td>0.0</td>\n    </tr>\n    <tr>\n      <th>5</th>\n      <td>5</td>\n      <td>NaN</td>\n      <td>Q</td>\n      <td>8.4583</td>\n      <td>3</td>\n      <td>330877</td>\n      <td>NaN</td>\n      <td>Moran, Mr. James</td>\n      <td>0</td>\n      <td>male</td>\n      <td>0</td>\n      <td>0.0</td>\n    </tr>\n    <tr>\n      <th>6</th>\n      <td>6</td>\n      <td>E46</td>\n      <td>S</td>\n      <td>51.8625</td>\n      <td>1</td>\n      <td>17463</td>\n      <td>54.0</td>\n      <td>McCarthy, Mr. Timothy J</td>\n      <td>0</td>\n      <td>male</td>\n      <td>0</td>\n      <td>0.0</td>\n    </tr>\n    <tr>\n      <th>7</th>\n      <td>7</td>\n      <td>NaN</td>\n      <td>S</td>\n      <td>21.0750</td>\n      <td>3</td>\n      <td>349909</td>\n      <td>2.0</td>\n      <td>Palsson, Master. Gosta Leonard</td>\n      <td>1</td>\n      <td>male</td>\n      <td>3</td>\n      <td>0.0</td>\n    </tr>\n    <tr>\n      <th>8</th>\n      <td>8</td>\n      <td>NaN</td>\n      <td>S</td>\n      <td>11.1333</td>\n      <td>3</td>\n      <td>347742</td>\n      <td>27.0</td>\n      <td>Johnson, Mrs. Oscar W (Elisabeth Vilhelmina Berg)</td>\n      <td>2</td>\n      <td>female</td>\n      <td>0</td>\n      <td>1.0</td>\n    </tr>\n    <tr>\n      <th>9</th>\n      <td>9</td>\n      <td>NaN</td>\n      <td>C</td>\n      <td>30.0708</td>\n      <td>2</td>\n      <td>237736</td>\n      <td>14.0</td>\n      <td>Nasser, Mrs. Nicholas (Adele Achem)</td>\n      <td>0</td>\n      <td>female</td>\n      <td>1</td>\n      <td>1.0</td>\n    </tr>\n  </tbody>\n</table>\n</div>"
     },
     "metadata": {},
     "execution_count": 7
    }
   ],
   "source": [
    "df.head(10)"
   ]
  },
  {
   "cell_type": "code",
   "execution_count": 9,
   "metadata": {},
   "outputs": [
    {
     "output_type": "execute_result",
     "data": {
      "text/plain": "0       22.0\n1       38.0\n2       26.0\n3       35.0\n4       35.0\n        ... \n1304     NaN\n1305    39.0\n1306    38.5\n1307     NaN\n1308     NaN\nName: Age, Length: 1309, dtype: float64"
     },
     "metadata": {},
     "execution_count": 9
    }
   ],
   "source": [
    "df['Age']"
   ]
  },
  {
   "cell_type": "code",
   "execution_count": 10,
   "metadata": {},
   "outputs": [
    {
     "output_type": "execute_result",
     "data": {
      "text/plain": "                                                   Name  Parch     Sex\n0                               Braund, Mr. Owen Harris      0    male\n1     Cumings, Mrs. John Bradley (Florence Briggs Th...      0  female\n2                                Heikkinen, Miss. Laina      0  female\n3          Futrelle, Mrs. Jacques Heath (Lily May Peel)      0  female\n4                              Allen, Mr. William Henry      0    male\n...                                                 ...    ...     ...\n1304                                 Spector, Mr. Woolf      0    male\n1305                       Oliva y Ocana, Dona. Fermina      0  female\n1306                       Saether, Mr. Simon Sivertsen      0    male\n1307                                Ware, Mr. Frederick      0    male\n1308                           Peter, Master. Michael J      1    male\n\n[1309 rows x 3 columns]",
      "text/html": "<div>\n<style scoped>\n    .dataframe tbody tr th:only-of-type {\n        vertical-align: middle;\n    }\n\n    .dataframe tbody tr th {\n        vertical-align: top;\n    }\n\n    .dataframe thead th {\n        text-align: right;\n    }\n</style>\n<table border=\"1\" class=\"dataframe\">\n  <thead>\n    <tr style=\"text-align: right;\">\n      <th></th>\n      <th>Name</th>\n      <th>Parch</th>\n      <th>Sex</th>\n    </tr>\n  </thead>\n  <tbody>\n    <tr>\n      <th>0</th>\n      <td>Braund, Mr. Owen Harris</td>\n      <td>0</td>\n      <td>male</td>\n    </tr>\n    <tr>\n      <th>1</th>\n      <td>Cumings, Mrs. John Bradley (Florence Briggs Th...</td>\n      <td>0</td>\n      <td>female</td>\n    </tr>\n    <tr>\n      <th>2</th>\n      <td>Heikkinen, Miss. Laina</td>\n      <td>0</td>\n      <td>female</td>\n    </tr>\n    <tr>\n      <th>3</th>\n      <td>Futrelle, Mrs. Jacques Heath (Lily May Peel)</td>\n      <td>0</td>\n      <td>female</td>\n    </tr>\n    <tr>\n      <th>4</th>\n      <td>Allen, Mr. William Henry</td>\n      <td>0</td>\n      <td>male</td>\n    </tr>\n    <tr>\n      <th>...</th>\n      <td>...</td>\n      <td>...</td>\n      <td>...</td>\n    </tr>\n    <tr>\n      <th>1304</th>\n      <td>Spector, Mr. Woolf</td>\n      <td>0</td>\n      <td>male</td>\n    </tr>\n    <tr>\n      <th>1305</th>\n      <td>Oliva y Ocana, Dona. Fermina</td>\n      <td>0</td>\n      <td>female</td>\n    </tr>\n    <tr>\n      <th>1306</th>\n      <td>Saether, Mr. Simon Sivertsen</td>\n      <td>0</td>\n      <td>male</td>\n    </tr>\n    <tr>\n      <th>1307</th>\n      <td>Ware, Mr. Frederick</td>\n      <td>0</td>\n      <td>male</td>\n    </tr>\n    <tr>\n      <th>1308</th>\n      <td>Peter, Master. Michael J</td>\n      <td>1</td>\n      <td>male</td>\n    </tr>\n  </tbody>\n</table>\n<p>1309 rows × 3 columns</p>\n</div>"
     },
     "metadata": {},
     "execution_count": 10
    }
   ],
   "source": [
    "df[['Name', 'Parch', 'Sex']]"
   ]
  },
  {
   "cell_type": "code",
   "execution_count": 11,
   "metadata": {},
   "outputs": [
    {
     "output_type": "execute_result",
     "data": {
      "text/plain": "Unnamed: 0                          0\nCabin                             NaN\nEmbarked                            S\nFare                             7.25\nPclass                              3\nTicket                      A/5 21171\nAge                                22\nName          Braund, Mr. Owen Harris\nParch                               0\nSex                              male\nSibSp                               1\nSurvived                            0\nName: 0, dtype: object"
     },
     "metadata": {},
     "execution_count": 11
    }
   ],
   "source": [
    "df.iloc[0]"
   ]
  },
  {
   "cell_type": "code",
   "execution_count": 13,
   "metadata": {
    "tags": []
   },
   "outputs": [
    {
     "output_type": "stream",
     "name": "stdout",
     "text": "Index(['Unnamed: 0', 'Cabin', 'Embarked', 'Fare', 'Pclass', 'Ticket', 'Age',\n       'Name', 'Parch', 'Sex', 'SibSp', 'Survived'],\n      dtype='object')\n"
    }
   ],
   "source": [
    "columns = df.columns # Extract the column labels\n",
    "print(columns)"
   ]
  },
  {
   "cell_type": "code",
   "execution_count": 14,
   "metadata": {},
   "outputs": [
    {
     "output_type": "execute_result",
     "data": {
      "text/plain": "     Cabin Embarked      Fare\n0      NaN        S    7.2500\n1      C85        C   71.2833\n2      NaN        S    7.9250\n3     C123        S   53.1000\n4      NaN        S    8.0500\n...    ...      ...       ...\n1304   NaN        S    8.0500\n1305  C105        C  108.9000\n1306   NaN        S    7.2500\n1307   NaN        S    8.0500\n1308   NaN        C   22.3583\n\n[1309 rows x 3 columns]",
      "text/html": "<div>\n<style scoped>\n    .dataframe tbody tr th:only-of-type {\n        vertical-align: middle;\n    }\n\n    .dataframe tbody tr th {\n        vertical-align: top;\n    }\n\n    .dataframe thead th {\n        text-align: right;\n    }\n</style>\n<table border=\"1\" class=\"dataframe\">\n  <thead>\n    <tr style=\"text-align: right;\">\n      <th></th>\n      <th>Cabin</th>\n      <th>Embarked</th>\n      <th>Fare</th>\n    </tr>\n  </thead>\n  <tbody>\n    <tr>\n      <th>0</th>\n      <td>NaN</td>\n      <td>S</td>\n      <td>7.2500</td>\n    </tr>\n    <tr>\n      <th>1</th>\n      <td>C85</td>\n      <td>C</td>\n      <td>71.2833</td>\n    </tr>\n    <tr>\n      <th>2</th>\n      <td>NaN</td>\n      <td>S</td>\n      <td>7.9250</td>\n    </tr>\n    <tr>\n      <th>3</th>\n      <td>C123</td>\n      <td>S</td>\n      <td>53.1000</td>\n    </tr>\n    <tr>\n      <th>4</th>\n      <td>NaN</td>\n      <td>S</td>\n      <td>8.0500</td>\n    </tr>\n    <tr>\n      <th>...</th>\n      <td>...</td>\n      <td>...</td>\n      <td>...</td>\n    </tr>\n    <tr>\n      <th>1304</th>\n      <td>NaN</td>\n      <td>S</td>\n      <td>8.0500</td>\n    </tr>\n    <tr>\n      <th>1305</th>\n      <td>C105</td>\n      <td>C</td>\n      <td>108.9000</td>\n    </tr>\n    <tr>\n      <th>1306</th>\n      <td>NaN</td>\n      <td>S</td>\n      <td>7.2500</td>\n    </tr>\n    <tr>\n      <th>1307</th>\n      <td>NaN</td>\n      <td>S</td>\n      <td>8.0500</td>\n    </tr>\n    <tr>\n      <th>1308</th>\n      <td>NaN</td>\n      <td>C</td>\n      <td>22.3583</td>\n    </tr>\n  </tbody>\n</table>\n<p>1309 rows × 3 columns</p>\n</div>"
     },
     "metadata": {},
     "execution_count": 14
    }
   ],
   "source": [
    "df[columns[1:4]] # Columns 2, 3, 4"
   ]
  },
  {
   "cell_type": "code",
   "execution_count": 15,
   "metadata": {},
   "outputs": [
    {
     "output_type": "execute_result",
     "data": {
      "text/plain": "1309"
     },
     "metadata": {},
     "execution_count": 15
    }
   ],
   "source": [
    "len(df) # Number of rows in the dataframe"
   ]
  },
  {
   "cell_type": "code",
   "execution_count": null,
   "metadata": {},
   "outputs": [],
   "source": []
  }
 ]
}
