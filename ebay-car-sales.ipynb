{
 "metadata": {
  "language_info": {
   "codemirror_mode": {
    "name": "ipython",
    "version": 3
   },
   "file_extension": ".py",
   "mimetype": "text/x-python",
   "name": "python",
   "nbconvert_exporter": "python",
   "pygments_lexer": "ipython3",
   "version": "3.7.6-final"
  },
  "orig_nbformat": 2,
  "kernelspec": {
   "name": "python3",
   "display_name": "Python 3"
  }
 },
 "nbformat": 4,
 "nbformat_minor": 2,
 "cells": [
  {
   "cell_type": "markdown",
   "metadata": {},
   "source": [
    "# eBay Kleinanzeigen Car Sales\n",
    "### Objective - To clean and analyze used car sales data from the german equivalent of eBay motors. \n",
    "\n",
    "The data dictionary provided with data is as follows:\n",
    "\n",
    "- name - Name of the car.\n",
    "- seller - Whether the seller is private or a dealer.\n",
    "- offerType - The type of listing\n",
    "- price - The price on the ad to sell the car.\n",
    "- abtest - Whether the listing is included in an A/B test.\n",
    "- vehicleType - The vehicle Type.\n",
    "- yearOfRegistration - The year in which which year the car was first registered.\n",
    "- gearbox - The transmission type.\n",
    "- powerPS - The power of the car in PS.\n",
    "- model - The car model name.\n",
    "- kilometer - How many kilometers the car has driven.\n",
    "- monthOfRegistration - The month in which which year the car was first registered.\n",
    "- fuelType - What type of fuel the car uses.\n",
    "- brand - The brand of the car.\n",
    "- notRepairedDamage - If the car has a damage which is not yet repaired.\n",
    "- dateCreated - The date on which the eBay listing was created.\n",
    "- nrOfPictures - The number of pictures in the ad.\n",
    "- postalCode - The postal code for the location of the vehicle.\n",
    "- lastSeenOnline - When the crawler saw this ad last online."
   ]
  },
  {
   "cell_type": "code",
   "execution_count": 1,
   "metadata": {},
   "outputs": [],
   "source": [
    "import pandas as pd"
   ]
  },
  {
   "cell_type": "markdown",
   "metadata": {},
   "source": [
    "## Import\n",
    "\n",
    "data file stored on GitHub"
   ]
  },
  {
   "cell_type": "code",
   "execution_count": 2,
   "metadata": {},
   "outputs": [],
   "source": [
    "autos = pd.read_csv('https://raw.githubusercontent.com/aaronsang/guided-data-science-projects/master/data/autos.csv', encoding='Latin-1')"
   ]
  },
  {
   "cell_type": "markdown",
   "metadata": {},
   "source": [
    "## Data Evaluation & Cleaning\n",
    "\n",
    "Data contains 20 columns, 50,000 rows, mostly string data with some integers. Some column names are Camel Case. Some column names are not descriptive enough.\n",
    "\n",
    "### Cleaning Todo:\n",
    "\n",
    "- [x] Standardize casing across column names\n",
    "- [x] Rename columns whos names are not descriptive enough\n",
    "- [x] Clean price column: (convert to int, remove outliers)\n",
    "- [x] Clean odometer column: (convert to int, remove outliers)\n",
    "- [ ] Identify and remediate any columns with null values\n",
    "  - [ ] vehicle_type\n",
    "  - [ ] gearbox\n",
    "  - [ ] model\n",
    "  - [ ] fuel_type\n",
    "  - [ ] unrepaired_damage\n"
   ]
  },
  {
   "cell_type": "code",
   "execution_count": 3,
   "metadata": {
    "tags": []
   },
   "outputs": [
    {
     "output_type": "execute_result",
     "data": {
      "text/plain": "           dateCrawled                                               name  \\\n0  2016-03-26 17:47:46                   Peugeot_807_160_NAVTECH_ON_BOARD   \n1  2016-04-04 13:38:56         BMW_740i_4_4_Liter_HAMANN_UMBAU_Mega_Optik   \n2  2016-03-26 18:57:24                         Volkswagen_Golf_1.6_United   \n3  2016-03-12 16:58:10  Smart_smart_fortwo_coupe_softouch/F1/Klima/Pan...   \n4  2016-04-01 14:38:50  Ford_Focus_1_6_Benzin_TÜV_neu_ist_sehr_gepfleg...   \n\n   seller offerType   price   abtest vehicleType  yearOfRegistration  \\\n0  privat   Angebot  $5,000  control         bus                2004   \n1  privat   Angebot  $8,500  control   limousine                1997   \n2  privat   Angebot  $8,990     test   limousine                2009   \n3  privat   Angebot  $4,350  control  kleinwagen                2007   \n4  privat   Angebot  $1,350     test       kombi                2003   \n\n     gearbox  powerPS   model   odometer  monthOfRegistration fuelType  \\\n0    manuell      158  andere  150,000km                    3      lpg   \n1  automatik      286     7er  150,000km                    6   benzin   \n2    manuell      102    golf   70,000km                    7   benzin   \n3  automatik       71  fortwo   70,000km                    6   benzin   \n4    manuell        0   focus  150,000km                    7   benzin   \n\n        brand notRepairedDamage          dateCreated  nrOfPictures  \\\n0     peugeot              nein  2016-03-26 00:00:00             0   \n1         bmw              nein  2016-04-04 00:00:00             0   \n2  volkswagen              nein  2016-03-26 00:00:00             0   \n3       smart              nein  2016-03-12 00:00:00             0   \n4        ford              nein  2016-04-01 00:00:00             0   \n\n   postalCode             lastSeen  \n0       79588  2016-04-06 06:45:54  \n1       71034  2016-04-06 14:45:08  \n2       35394  2016-04-06 20:15:37  \n3       33729  2016-03-15 03:16:28  \n4       39218  2016-04-01 14:38:50  ",
      "text/html": "<div>\n<style scoped>\n    .dataframe tbody tr th:only-of-type {\n        vertical-align: middle;\n    }\n\n    .dataframe tbody tr th {\n        vertical-align: top;\n    }\n\n    .dataframe thead th {\n        text-align: right;\n    }\n</style>\n<table border=\"1\" class=\"dataframe\">\n  <thead>\n    <tr style=\"text-align: right;\">\n      <th></th>\n      <th>dateCrawled</th>\n      <th>name</th>\n      <th>seller</th>\n      <th>offerType</th>\n      <th>price</th>\n      <th>abtest</th>\n      <th>vehicleType</th>\n      <th>yearOfRegistration</th>\n      <th>gearbox</th>\n      <th>powerPS</th>\n      <th>model</th>\n      <th>odometer</th>\n      <th>monthOfRegistration</th>\n      <th>fuelType</th>\n      <th>brand</th>\n      <th>notRepairedDamage</th>\n      <th>dateCreated</th>\n      <th>nrOfPictures</th>\n      <th>postalCode</th>\n      <th>lastSeen</th>\n    </tr>\n  </thead>\n  <tbody>\n    <tr>\n      <th>0</th>\n      <td>2016-03-26 17:47:46</td>\n      <td>Peugeot_807_160_NAVTECH_ON_BOARD</td>\n      <td>privat</td>\n      <td>Angebot</td>\n      <td>$5,000</td>\n      <td>control</td>\n      <td>bus</td>\n      <td>2004</td>\n      <td>manuell</td>\n      <td>158</td>\n      <td>andere</td>\n      <td>150,000km</td>\n      <td>3</td>\n      <td>lpg</td>\n      <td>peugeot</td>\n      <td>nein</td>\n      <td>2016-03-26 00:00:00</td>\n      <td>0</td>\n      <td>79588</td>\n      <td>2016-04-06 06:45:54</td>\n    </tr>\n    <tr>\n      <th>1</th>\n      <td>2016-04-04 13:38:56</td>\n      <td>BMW_740i_4_4_Liter_HAMANN_UMBAU_Mega_Optik</td>\n      <td>privat</td>\n      <td>Angebot</td>\n      <td>$8,500</td>\n      <td>control</td>\n      <td>limousine</td>\n      <td>1997</td>\n      <td>automatik</td>\n      <td>286</td>\n      <td>7er</td>\n      <td>150,000km</td>\n      <td>6</td>\n      <td>benzin</td>\n      <td>bmw</td>\n      <td>nein</td>\n      <td>2016-04-04 00:00:00</td>\n      <td>0</td>\n      <td>71034</td>\n      <td>2016-04-06 14:45:08</td>\n    </tr>\n    <tr>\n      <th>2</th>\n      <td>2016-03-26 18:57:24</td>\n      <td>Volkswagen_Golf_1.6_United</td>\n      <td>privat</td>\n      <td>Angebot</td>\n      <td>$8,990</td>\n      <td>test</td>\n      <td>limousine</td>\n      <td>2009</td>\n      <td>manuell</td>\n      <td>102</td>\n      <td>golf</td>\n      <td>70,000km</td>\n      <td>7</td>\n      <td>benzin</td>\n      <td>volkswagen</td>\n      <td>nein</td>\n      <td>2016-03-26 00:00:00</td>\n      <td>0</td>\n      <td>35394</td>\n      <td>2016-04-06 20:15:37</td>\n    </tr>\n    <tr>\n      <th>3</th>\n      <td>2016-03-12 16:58:10</td>\n      <td>Smart_smart_fortwo_coupe_softouch/F1/Klima/Pan...</td>\n      <td>privat</td>\n      <td>Angebot</td>\n      <td>$4,350</td>\n      <td>control</td>\n      <td>kleinwagen</td>\n      <td>2007</td>\n      <td>automatik</td>\n      <td>71</td>\n      <td>fortwo</td>\n      <td>70,000km</td>\n      <td>6</td>\n      <td>benzin</td>\n      <td>smart</td>\n      <td>nein</td>\n      <td>2016-03-12 00:00:00</td>\n      <td>0</td>\n      <td>33729</td>\n      <td>2016-03-15 03:16:28</td>\n    </tr>\n    <tr>\n      <th>4</th>\n      <td>2016-04-01 14:38:50</td>\n      <td>Ford_Focus_1_6_Benzin_TÜV_neu_ist_sehr_gepfleg...</td>\n      <td>privat</td>\n      <td>Angebot</td>\n      <td>$1,350</td>\n      <td>test</td>\n      <td>kombi</td>\n      <td>2003</td>\n      <td>manuell</td>\n      <td>0</td>\n      <td>focus</td>\n      <td>150,000km</td>\n      <td>7</td>\n      <td>benzin</td>\n      <td>ford</td>\n      <td>nein</td>\n      <td>2016-04-01 00:00:00</td>\n      <td>0</td>\n      <td>39218</td>\n      <td>2016-04-01 14:38:50</td>\n    </tr>\n  </tbody>\n</table>\n</div>"
     },
     "metadata": {},
     "execution_count": 3
    }
   ],
   "source": [
    "autos.head()"
   ]
  },
  {
   "cell_type": "code",
   "execution_count": 4,
   "metadata": {},
   "outputs": [
    {
     "output_type": "execute_result",
     "data": {
      "text/plain": "                dateCrawled         name  seller offerType  price abtest  \\\ncount                 50000        50000   50000     50000  50000  50000   \nunique                48213        38754       2         2   2357      2   \ntop     2016-03-10 15:36:24  Ford_Fiesta  privat   Angebot     $0   test   \nfreq                      3           78   49999     49999   1421  25756   \nmean                    NaN          NaN     NaN       NaN    NaN    NaN   \nstd                     NaN          NaN     NaN       NaN    NaN    NaN   \nmin                     NaN          NaN     NaN       NaN    NaN    NaN   \n25%                     NaN          NaN     NaN       NaN    NaN    NaN   \n50%                     NaN          NaN     NaN       NaN    NaN    NaN   \n75%                     NaN          NaN     NaN       NaN    NaN    NaN   \nmax                     NaN          NaN     NaN       NaN    NaN    NaN   \n\n       vehicleType  yearOfRegistration  gearbox       powerPS  model  \\\ncount        44905        50000.000000    47320  50000.000000  47242   \nunique           8                 NaN        2           NaN    245   \ntop      limousine                 NaN  manuell           NaN   golf   \nfreq         12859                 NaN    36993           NaN   4024   \nmean           NaN         2005.073280      NaN    116.355920    NaN   \nstd            NaN          105.712813      NaN    209.216627    NaN   \nmin            NaN         1000.000000      NaN      0.000000    NaN   \n25%            NaN         1999.000000      NaN     70.000000    NaN   \n50%            NaN         2003.000000      NaN    105.000000    NaN   \n75%            NaN         2008.000000      NaN    150.000000    NaN   \nmax            NaN         9999.000000      NaN  17700.000000    NaN   \n\n         odometer  monthOfRegistration fuelType       brand notRepairedDamage  \\\ncount       50000         50000.000000    45518       50000             40171   \nunique         13                  NaN        7          40                 2   \ntop     150,000km                  NaN   benzin  volkswagen              nein   \nfreq        32424                  NaN    30107       10687             35232   \nmean          NaN             5.723360      NaN         NaN               NaN   \nstd           NaN             3.711984      NaN         NaN               NaN   \nmin           NaN             0.000000      NaN         NaN               NaN   \n25%           NaN             3.000000      NaN         NaN               NaN   \n50%           NaN             6.000000      NaN         NaN               NaN   \n75%           NaN             9.000000      NaN         NaN               NaN   \nmax           NaN            12.000000      NaN         NaN               NaN   \n\n                dateCreated  nrOfPictures    postalCode             lastSeen  \ncount                 50000       50000.0  50000.000000                50000  \nunique                   76           NaN           NaN                39481  \ntop     2016-04-03 00:00:00           NaN           NaN  2016-04-07 06:17:27  \nfreq                   1946           NaN           NaN                    8  \nmean                    NaN           0.0  50813.627300                  NaN  \nstd                     NaN           0.0  25779.747957                  NaN  \nmin                     NaN           0.0   1067.000000                  NaN  \n25%                     NaN           0.0  30451.000000                  NaN  \n50%                     NaN           0.0  49577.000000                  NaN  \n75%                     NaN           0.0  71540.000000                  NaN  \nmax                     NaN           0.0  99998.000000                  NaN  ",
      "text/html": "<div>\n<style scoped>\n    .dataframe tbody tr th:only-of-type {\n        vertical-align: middle;\n    }\n\n    .dataframe tbody tr th {\n        vertical-align: top;\n    }\n\n    .dataframe thead th {\n        text-align: right;\n    }\n</style>\n<table border=\"1\" class=\"dataframe\">\n  <thead>\n    <tr style=\"text-align: right;\">\n      <th></th>\n      <th>dateCrawled</th>\n      <th>name</th>\n      <th>seller</th>\n      <th>offerType</th>\n      <th>price</th>\n      <th>abtest</th>\n      <th>vehicleType</th>\n      <th>yearOfRegistration</th>\n      <th>gearbox</th>\n      <th>powerPS</th>\n      <th>model</th>\n      <th>odometer</th>\n      <th>monthOfRegistration</th>\n      <th>fuelType</th>\n      <th>brand</th>\n      <th>notRepairedDamage</th>\n      <th>dateCreated</th>\n      <th>nrOfPictures</th>\n      <th>postalCode</th>\n      <th>lastSeen</th>\n    </tr>\n  </thead>\n  <tbody>\n    <tr>\n      <th>count</th>\n      <td>50000</td>\n      <td>50000</td>\n      <td>50000</td>\n      <td>50000</td>\n      <td>50000</td>\n      <td>50000</td>\n      <td>44905</td>\n      <td>50000.000000</td>\n      <td>47320</td>\n      <td>50000.000000</td>\n      <td>47242</td>\n      <td>50000</td>\n      <td>50000.000000</td>\n      <td>45518</td>\n      <td>50000</td>\n      <td>40171</td>\n      <td>50000</td>\n      <td>50000.0</td>\n      <td>50000.000000</td>\n      <td>50000</td>\n    </tr>\n    <tr>\n      <th>unique</th>\n      <td>48213</td>\n      <td>38754</td>\n      <td>2</td>\n      <td>2</td>\n      <td>2357</td>\n      <td>2</td>\n      <td>8</td>\n      <td>NaN</td>\n      <td>2</td>\n      <td>NaN</td>\n      <td>245</td>\n      <td>13</td>\n      <td>NaN</td>\n      <td>7</td>\n      <td>40</td>\n      <td>2</td>\n      <td>76</td>\n      <td>NaN</td>\n      <td>NaN</td>\n      <td>39481</td>\n    </tr>\n    <tr>\n      <th>top</th>\n      <td>2016-03-10 15:36:24</td>\n      <td>Ford_Fiesta</td>\n      <td>privat</td>\n      <td>Angebot</td>\n      <td>$0</td>\n      <td>test</td>\n      <td>limousine</td>\n      <td>NaN</td>\n      <td>manuell</td>\n      <td>NaN</td>\n      <td>golf</td>\n      <td>150,000km</td>\n      <td>NaN</td>\n      <td>benzin</td>\n      <td>volkswagen</td>\n      <td>nein</td>\n      <td>2016-04-03 00:00:00</td>\n      <td>NaN</td>\n      <td>NaN</td>\n      <td>2016-04-07 06:17:27</td>\n    </tr>\n    <tr>\n      <th>freq</th>\n      <td>3</td>\n      <td>78</td>\n      <td>49999</td>\n      <td>49999</td>\n      <td>1421</td>\n      <td>25756</td>\n      <td>12859</td>\n      <td>NaN</td>\n      <td>36993</td>\n      <td>NaN</td>\n      <td>4024</td>\n      <td>32424</td>\n      <td>NaN</td>\n      <td>30107</td>\n      <td>10687</td>\n      <td>35232</td>\n      <td>1946</td>\n      <td>NaN</td>\n      <td>NaN</td>\n      <td>8</td>\n    </tr>\n    <tr>\n      <th>mean</th>\n      <td>NaN</td>\n      <td>NaN</td>\n      <td>NaN</td>\n      <td>NaN</td>\n      <td>NaN</td>\n      <td>NaN</td>\n      <td>NaN</td>\n      <td>2005.073280</td>\n      <td>NaN</td>\n      <td>116.355920</td>\n      <td>NaN</td>\n      <td>NaN</td>\n      <td>5.723360</td>\n      <td>NaN</td>\n      <td>NaN</td>\n      <td>NaN</td>\n      <td>NaN</td>\n      <td>0.0</td>\n      <td>50813.627300</td>\n      <td>NaN</td>\n    </tr>\n    <tr>\n      <th>std</th>\n      <td>NaN</td>\n      <td>NaN</td>\n      <td>NaN</td>\n      <td>NaN</td>\n      <td>NaN</td>\n      <td>NaN</td>\n      <td>NaN</td>\n      <td>105.712813</td>\n      <td>NaN</td>\n      <td>209.216627</td>\n      <td>NaN</td>\n      <td>NaN</td>\n      <td>3.711984</td>\n      <td>NaN</td>\n      <td>NaN</td>\n      <td>NaN</td>\n      <td>NaN</td>\n      <td>0.0</td>\n      <td>25779.747957</td>\n      <td>NaN</td>\n    </tr>\n    <tr>\n      <th>min</th>\n      <td>NaN</td>\n      <td>NaN</td>\n      <td>NaN</td>\n      <td>NaN</td>\n      <td>NaN</td>\n      <td>NaN</td>\n      <td>NaN</td>\n      <td>1000.000000</td>\n      <td>NaN</td>\n      <td>0.000000</td>\n      <td>NaN</td>\n      <td>NaN</td>\n      <td>0.000000</td>\n      <td>NaN</td>\n      <td>NaN</td>\n      <td>NaN</td>\n      <td>NaN</td>\n      <td>0.0</td>\n      <td>1067.000000</td>\n      <td>NaN</td>\n    </tr>\n    <tr>\n      <th>25%</th>\n      <td>NaN</td>\n      <td>NaN</td>\n      <td>NaN</td>\n      <td>NaN</td>\n      <td>NaN</td>\n      <td>NaN</td>\n      <td>NaN</td>\n      <td>1999.000000</td>\n      <td>NaN</td>\n      <td>70.000000</td>\n      <td>NaN</td>\n      <td>NaN</td>\n      <td>3.000000</td>\n      <td>NaN</td>\n      <td>NaN</td>\n      <td>NaN</td>\n      <td>NaN</td>\n      <td>0.0</td>\n      <td>30451.000000</td>\n      <td>NaN</td>\n    </tr>\n    <tr>\n      <th>50%</th>\n      <td>NaN</td>\n      <td>NaN</td>\n      <td>NaN</td>\n      <td>NaN</td>\n      <td>NaN</td>\n      <td>NaN</td>\n      <td>NaN</td>\n      <td>2003.000000</td>\n      <td>NaN</td>\n      <td>105.000000</td>\n      <td>NaN</td>\n      <td>NaN</td>\n      <td>6.000000</td>\n      <td>NaN</td>\n      <td>NaN</td>\n      <td>NaN</td>\n      <td>NaN</td>\n      <td>0.0</td>\n      <td>49577.000000</td>\n      <td>NaN</td>\n    </tr>\n    <tr>\n      <th>75%</th>\n      <td>NaN</td>\n      <td>NaN</td>\n      <td>NaN</td>\n      <td>NaN</td>\n      <td>NaN</td>\n      <td>NaN</td>\n      <td>NaN</td>\n      <td>2008.000000</td>\n      <td>NaN</td>\n      <td>150.000000</td>\n      <td>NaN</td>\n      <td>NaN</td>\n      <td>9.000000</td>\n      <td>NaN</td>\n      <td>NaN</td>\n      <td>NaN</td>\n      <td>NaN</td>\n      <td>0.0</td>\n      <td>71540.000000</td>\n      <td>NaN</td>\n    </tr>\n    <tr>\n      <th>max</th>\n      <td>NaN</td>\n      <td>NaN</td>\n      <td>NaN</td>\n      <td>NaN</td>\n      <td>NaN</td>\n      <td>NaN</td>\n      <td>NaN</td>\n      <td>9999.000000</td>\n      <td>NaN</td>\n      <td>17700.000000</td>\n      <td>NaN</td>\n      <td>NaN</td>\n      <td>12.000000</td>\n      <td>NaN</td>\n      <td>NaN</td>\n      <td>NaN</td>\n      <td>NaN</td>\n      <td>0.0</td>\n      <td>99998.000000</td>\n      <td>NaN</td>\n    </tr>\n  </tbody>\n</table>\n</div>"
     },
     "metadata": {},
     "execution_count": 4
    }
   ],
   "source": [
    "autos.describe(include=\"all\")"
   ]
  },
  {
   "cell_type": "code",
   "execution_count": 5,
   "metadata": {
    "tags": []
   },
   "outputs": [
    {
     "output_type": "stream",
     "name": "stdout",
     "text": "<class 'pandas.core.frame.DataFrame'>\nRangeIndex: 50000 entries, 0 to 49999\nData columns (total 20 columns):\n #   Column               Non-Null Count  Dtype \n---  ------               --------------  ----- \n 0   dateCrawled          50000 non-null  object\n 1   name                 50000 non-null  object\n 2   seller               50000 non-null  object\n 3   offerType            50000 non-null  object\n 4   price                50000 non-null  object\n 5   abtest               50000 non-null  object\n 6   vehicleType          44905 non-null  object\n 7   yearOfRegistration   50000 non-null  int64 \n 8   gearbox              47320 non-null  object\n 9   powerPS              50000 non-null  int64 \n 10  model                47242 non-null  object\n 11  odometer             50000 non-null  object\n 12  monthOfRegistration  50000 non-null  int64 \n 13  fuelType             45518 non-null  object\n 14  brand                50000 non-null  object\n 15  notRepairedDamage    40171 non-null  object\n 16  dateCreated          50000 non-null  object\n 17  nrOfPictures         50000 non-null  int64 \n 18  postalCode           50000 non-null  int64 \n 19  lastSeen             50000 non-null  object\ndtypes: int64(5), object(15)\nmemory usage: 7.6+ MB\n"
    }
   ],
   "source": [
    "autos.info(null_counts=True)"
   ]
  },
  {
   "cell_type": "code",
   "execution_count": 6,
   "metadata": {},
   "outputs": [],
   "source": [
    "# Modified column names from CamelCase to snake_case\n",
    "autos.columns\n",
    "new_columns = ['date_crawled', 'name', 'seller', 'offer_type', 'price', 'ab_test',\n",
    "       'vehicle_type', 'registration_year', 'gearbox', 'power_ps', 'model',\n",
    "       'odometer', 'registration_month', 'fuel_type', 'brand',\n",
    "       'unrepaired_damage', 'ad_created', 'number_of_pictures', 'postal_code',\n",
    "       'last_seen']\n",
    "autos.columns = new_columns"
   ]
  },
  {
   "cell_type": "code",
   "execution_count": 7,
   "metadata": {},
   "outputs": [
    {
     "output_type": "execute_result",
     "data": {
      "text/plain": "Index(['date_crawled', 'name', 'seller', 'offer_type', 'price', 'ab_test',\n       'vehicle_type', 'registration_year', 'gearbox', 'power_ps', 'model',\n       'odometer', 'registration_month', 'fuel_type', 'brand',\n       'unrepaired_damage', 'ad_created', 'number_of_pictures', 'postal_code',\n       'last_seen'],\n      dtype='object')"
     },
     "metadata": {},
     "execution_count": 7
    }
   ],
   "source": [
    "autos.columns"
   ]
  },
  {
   "cell_type": "markdown",
   "metadata": {},
   "source": [
    "I renamed a few columns so that they more accurately describe their data points and to create snake-case consistency.\n",
    "\n",
    "- yearOfRegistration to registration_year\n",
    "- monthOfRegistration to registration_month\n",
    "- notRepairedDamage to unrepaired_damage\n",
    "- dateCreated to ad_created"
   ]
  },
  {
   "cell_type": "code",
   "execution_count": 8,
   "metadata": {},
   "outputs": [],
   "source": [
    "# Coverted odometer_km column to integer and removed comma and km label\n",
    "autos['odometer'] = autos['odometer'].str.replace('km','').str.replace(',','').astype('int64')\n",
    "# removed $ and ,; converted to int\n",
    "autos['price'] = autos['price'].str.replace('$',\"\").str.replace(',',\"\").astype('int64')\n",
    "# Renamed odometer column to odometer_km\n",
    "autos.rename(columns={'odometer':'odometer_km'}, inplace=True)\n"
   ]
  },
  {
   "cell_type": "code",
   "execution_count": 9,
   "metadata": {
    "tags": []
   },
   "outputs": [
    {
     "output_type": "execute_result",
     "data": {
      "text/plain": "price          int64\nodometer_km    int64\ndtype: object"
     },
     "metadata": {},
     "execution_count": 9
    }
   ],
   "source": [
    "# Verification of column renaming and dtype\n",
    "autos[['price','odometer_km']].dtypes"
   ]
  },
  {
   "cell_type": "code",
   "execution_count": 10,
   "metadata": {},
   "outputs": [
    {
     "output_type": "execute_result",
     "data": {
      "text/plain": "2357"
     },
     "metadata": {},
     "execution_count": 10
    }
   ],
   "source": [
    "autos['price'].unique().shape[0]"
   ]
  },
  {
   "cell_type": "code",
   "execution_count": 11,
   "metadata": {
    "tags": []
   },
   "outputs": [
    {
     "output_type": "stream",
     "name": "stdout",
     "text": "count    5.000000e+04\nmean     9.840044e+03\nstd      4.811044e+05\nmin      0.000000e+00\n25%      1.100000e+03\n50%      2.950000e+03\n75%      7.200000e+03\nmax      1.000000e+08\nName: price, dtype: float64\n\n0        1421\n500       781\n1500      734\n2500      643\n1000      639\n         ... \n20790       1\n8970        1\n846         1\n2895        1\n33980       1\nName: price, Length: 2357, dtype: int64\n"
    }
   ],
   "source": [
    "print(autos['price'].describe())\n",
    "print()\n",
    "print(autos['price'].value_counts())"
   ]
  },
  {
   "cell_type": "code",
   "execution_count": 12,
   "metadata": {
    "tags": []
   },
   "outputs": [
    {
     "output_type": "stream",
     "name": "stdout",
     "text": "0    1421\n1     156\n2       3\n3       1\n5       2\nName: price, dtype: int64\n99999999    1\n27322222    1\n12345678    3\n11111111    2\n10000000    1\n3890000     1\n1300000     1\n1234566     1\n999999      2\n999990      1\n350000      1\n345000      1\n299000      1\n295000      1\n265000      1\nName: price, dtype: int64\n"
    }
   ],
   "source": [
    "# Evaluation of low prices\n",
    "print(autos['price'].value_counts().sort_index(ascending=True).head())\n",
    "# Evaluation of high prices\n",
    "print(autos['price'].value_counts().sort_index(ascending=False).head(15))"
   ]
  },
  {
   "cell_type": "code",
   "execution_count": 13,
   "metadata": {
    "tags": []
   },
   "outputs": [
    {
     "output_type": "stream",
     "name": "stdout",
     "text": "Rows with prices < 1: 1421\nRows with prices > 350k: 14\nlow and high prices combined: 1435\n"
    }
   ],
   "source": [
    "low_prices = autos.loc[autos['price'] < 1].shape[0]\n",
    "high_prices = autos.loc[autos['price'] > 350_000].shape[0]\n",
    "print(f\"Rows with prices < 1: {low_prices}\")\n",
    "print(f\"Rows with prices > 350k: {high_prices}\")\n",
    "print(f\"low and high prices combined: {low_prices + high_prices}\")"
   ]
  },
  {
   "cell_type": "markdown",
   "metadata": {},
   "source": [
    "There are 1421 rows with their prices < 1. Looking at the maximum prices, it jumps from 350k to 999990. Since there are such a small amount of rows with prices >350k, I will remove the prices under <1, and <350k."
   ]
  },
  {
   "cell_type": "code",
   "execution_count": 14,
   "metadata": {
    "tags": []
   },
   "outputs": [
    {
     "output_type": "stream",
     "name": "stdout",
     "text": "(48565, 20)\n"
    }
   ],
   "source": [
    "autos = autos[autos['price'].between(1, 350_000)]\n",
    "print(autos.shape)"
   ]
  },
  {
   "cell_type": "markdown",
   "metadata": {},
   "source": [
    "The sum of low and high prices I removed matches the difference between the starting index of 50k and the amount of rows remaining."
   ]
  },
  {
   "cell_type": "code",
   "execution_count": 15,
   "metadata": {},
   "outputs": [
    {
     "output_type": "execute_result",
     "data": {
      "text/plain": "150000    31414\n125000     5057\n100000     2115\n90000      1734\n80000      1415\n70000      1217\n60000      1155\n50000      1012\n5000        836\n40000       815\n30000       780\n20000       762\n10000       253\nName: odometer_km, dtype: int64"
     },
     "metadata": {},
     "execution_count": 15
    }
   ],
   "source": [
    "autos['odometer_km'].value_counts()"
   ]
  },
  {
   "cell_type": "markdown",
   "metadata": {},
   "source": [
    "Reviewing the odometer values, doesn't appear to have any outliers and the data looks well rounded. Most of the vehicles have 150,000 km."
   ]
  },
  {
   "cell_type": "code",
   "execution_count": 18,
   "metadata": {},
   "outputs": [
    {
     "output_type": "execute_result",
     "data": {
      "text/plain": "          date_crawled           ad_created            last_seen\n0  2016-03-26 17:47:46  2016-03-26 00:00:00  2016-04-06 06:45:54\n1  2016-04-04 13:38:56  2016-04-04 00:00:00  2016-04-06 14:45:08\n2  2016-03-26 18:57:24  2016-03-26 00:00:00  2016-04-06 20:15:37\n3  2016-03-12 16:58:10  2016-03-12 00:00:00  2016-03-15 03:16:28\n4  2016-04-01 14:38:50  2016-04-01 00:00:00  2016-04-01 14:38:50",
      "text/html": "<div>\n<style scoped>\n    .dataframe tbody tr th:only-of-type {\n        vertical-align: middle;\n    }\n\n    .dataframe tbody tr th {\n        vertical-align: top;\n    }\n\n    .dataframe thead th {\n        text-align: right;\n    }\n</style>\n<table border=\"1\" class=\"dataframe\">\n  <thead>\n    <tr style=\"text-align: right;\">\n      <th></th>\n      <th>date_crawled</th>\n      <th>ad_created</th>\n      <th>last_seen</th>\n    </tr>\n  </thead>\n  <tbody>\n    <tr>\n      <th>0</th>\n      <td>2016-03-26 17:47:46</td>\n      <td>2016-03-26 00:00:00</td>\n      <td>2016-04-06 06:45:54</td>\n    </tr>\n    <tr>\n      <th>1</th>\n      <td>2016-04-04 13:38:56</td>\n      <td>2016-04-04 00:00:00</td>\n      <td>2016-04-06 14:45:08</td>\n    </tr>\n    <tr>\n      <th>2</th>\n      <td>2016-03-26 18:57:24</td>\n      <td>2016-03-26 00:00:00</td>\n      <td>2016-04-06 20:15:37</td>\n    </tr>\n    <tr>\n      <th>3</th>\n      <td>2016-03-12 16:58:10</td>\n      <td>2016-03-12 00:00:00</td>\n      <td>2016-03-15 03:16:28</td>\n    </tr>\n    <tr>\n      <th>4</th>\n      <td>2016-04-01 14:38:50</td>\n      <td>2016-04-01 00:00:00</td>\n      <td>2016-04-01 14:38:50</td>\n    </tr>\n  </tbody>\n</table>\n</div>"
     },
     "metadata": {},
     "execution_count": 18
    }
   ],
   "source": [
    "autos[['date_crawled','ad_created','last_seen']][0:5]"
   ]
  },
  {
   "cell_type": "markdown",
   "metadata": {},
   "source": [
    "Looks like the dates are the first 10 characters. I'll extract just the date to evaluate the distribution of dates."
   ]
  },
  {
   "cell_type": "code",
   "execution_count": 34,
   "metadata": {},
   "outputs": [
    {
     "output_type": "execute_result",
     "data": {
      "text/plain": "2016-03-05    0.025327\n2016-03-06    0.014043\n2016-03-07    0.036014\n2016-03-08    0.033296\n2016-03-09    0.033090\n2016-03-10    0.032184\n2016-03-11    0.032575\n2016-03-12    0.036920\n2016-03-13    0.015670\n2016-03-14    0.036549\n2016-03-15    0.034284\n2016-03-16    0.029610\n2016-03-17    0.031628\n2016-03-18    0.012911\n2016-03-19    0.034778\n2016-03-20    0.037887\n2016-03-21    0.037373\n2016-03-22    0.032987\n2016-03-23    0.032225\n2016-03-24    0.029342\n2016-03-25    0.031607\n2016-03-26    0.032204\n2016-03-27    0.031092\n2016-03-28    0.034860\n2016-03-29    0.034099\n2016-03-30    0.033687\n2016-03-31    0.031834\n2016-04-01    0.033687\n2016-04-02    0.035478\n2016-04-03    0.038608\n2016-04-04    0.036487\n2016-04-05    0.013096\n2016-04-06    0.003171\n2016-04-07    0.001400\nName: date_crawled, dtype: float64"
     },
     "metadata": {},
     "execution_count": 34
    }
   ],
   "source": [
    "date_crawled = autos['date_crawled'].str[:10]\n",
    "date_crawled.value_counts(normalize=True, dropna=False).sort_index()"
   ]
  },
  {
   "cell_type": "code",
   "execution_count": 44,
   "metadata": {},
   "outputs": [
    {
     "output_type": "execute_result",
     "data": {
      "text/plain": "2016-04-03    3.885514\n2016-03-20    3.794914\n2016-03-21    3.757850\n2016-04-04    3.685782\n2016-03-12    3.675486\n2016-03-14    3.518995\n2016-04-02    3.514877\n2016-03-28    3.498404\n2016-03-07    3.473695\n2016-03-29    3.403686\n2016-03-15    3.401627\n2016-03-19    3.368681\n2016-04-01    3.368681\n2016-03-30    3.350149\n2016-03-08    3.331617\n2016-03-09    3.315145\n2016-03-11    3.290435\n2016-03-22    3.280140\n2016-03-26    3.226604\n2016-03-23    3.206013\nName: ad_created, dtype: float64"
     },
     "metadata": {},
     "execution_count": 44
    }
   ],
   "source": [
    "ad_created = autos['ad_created'].str[:10]\n",
    "ad_created.value_counts(normalize=True,dropna=False).head(20) * 100"
   ]
  },
  {
   "cell_type": "code",
   "execution_count": 46,
   "metadata": {},
   "outputs": [
    {
     "output_type": "execute_result",
     "data": {
      "text/plain": "2016-04-06    22.180583\n2016-04-07    13.194688\n2016-04-05    12.476063\n2016-03-17     2.808607\n2016-04-03     2.520334\n2016-04-02     2.491506\n2016-03-30     2.477093\n2016-04-04     2.448265\n2016-03-12     2.378256\n2016-03-31     2.378256\n2016-04-01     2.279419\n2016-03-29     2.234119\n2016-03-22     2.137342\n2016-03-28     2.085864\n2016-03-20     2.065273\n2016-03-21     2.063214\n2016-03-24     1.976732\n2016-03-25     1.921137\n2016-03-23     1.853186\n2016-03-26     1.680222\nName: last_seen, dtype: float64"
     },
     "metadata": {},
     "execution_count": 46
    }
   ],
   "source": [
    "last_seen = autos['last_seen'].str[:10]\n",
    "last_seen.value_counts(normalize=True, dropna=False).head(20) * 100"
   ]
  },
  {
   "cell_type": "markdown",
   "metadata": {},
   "source": [
    "Appears most of the data was obtained throughout the month of March and is spread pretty evenly. However the first week of April seems to be the most popular viewing time."
   ]
  },
  {
   "cell_type": "code",
   "execution_count": 51,
   "metadata": {},
   "outputs": [
    {
     "output_type": "execute_result",
     "data": {
      "text/plain": "count    48565.000000\nmean      2004.755421\nstd         88.643887\nmin       1000.000000\n25%       1999.000000\n50%       2004.000000\n75%       2008.000000\nmax       9999.000000\nName: registration_year, dtype: float64"
     },
     "metadata": {},
     "execution_count": 51
    }
   ],
   "source": [
    "autos['registration_year'].describe()"
   ]
  },
  {
   "cell_type": "code",
   "execution_count": 69,
   "metadata": {
    "tags": []
   },
   "outputs": [
    {
     "output_type": "execute_result",
     "data": {
      "text/plain": "3.8793369710697"
     },
     "metadata": {},
     "execution_count": 69
    }
   ],
   "source": [
    "(~autos['registration_year'].between(1900,2016)).sum() / len(autos) * 100"
   ]
  },
  {
   "cell_type": "markdown",
   "metadata": {},
   "source": [
    "Since the the rows outside of 1900 - 2016 only makes up 3.8% of the dataset, I will remove these."
   ]
  },
  {
   "cell_type": "code",
   "execution_count": 75,
   "metadata": {},
   "outputs": [
    {
     "output_type": "execute_result",
     "data": {
      "text/plain": "2000    6.760781\n2005    6.289497\n1999    6.205951\n2004    5.790364\n2003    5.781796\n2006    5.719672\n2001    5.646837\n2002    5.325507\n1998    5.062017\n2007    4.877788\n2008    4.744971\n2009    4.466485\n1997    4.179431\n2011    3.476789\n2010    3.403954\nName: registration_year, dtype: float64"
     },
     "metadata": {},
     "execution_count": 75
    }
   ],
   "source": [
    "autos = autos[autos['registration_year'].between(1900,2016)]\n",
    "autos['registration_year'].value_counts(normalize=True).head(15) * 100"
   ]
  },
  {
   "cell_type": "markdown",
   "metadata": {},
   "source": [
    "Most of the vehicles were registered within the past 20 years or so."
   ]
  },
  {
   "cell_type": "code",
   "execution_count": 84,
   "metadata": {},
   "outputs": [
    {
     "output_type": "execute_result",
     "data": {
      "text/plain": "volkswagen        21.126368\nbmw               11.004477\nopel              10.758124\nmercedes_benz      9.646323\naudi               8.656627\nford               6.989996\nrenault            4.714980\npeugeot            2.984083\nfiat               2.564212\nseat               1.827296\nskoda              1.640925\nnissan             1.527388\nmazda              1.518819\nsmart              1.415994\ncitroen            1.400998\ntoyota             1.270324\nhyundai            1.002549\nsonstige_autos     0.981127\nvolvo              0.914719\nmini               0.876159\nmitsubishi         0.822604\nhonda              0.784045\nkia                0.706926\nalfa_romeo         0.664082\nporsche            0.612669\nsuzuki             0.593389\nchevrolet          0.569825\nchrysler           0.351321\ndacia              0.263490\ndaihatsu           0.250637\njeep               0.227073\nsubaru             0.214220\nland_rover         0.209936\nsaab               0.164949\njaguar             0.156381\ndaewoo             0.149954\ntrabant            0.139243\nrover              0.132816\nlancia             0.107110\nlada               0.057839\nName: brand, dtype: float64"
     },
     "metadata": {},
     "execution_count": 84
    }
   ],
   "source": [
    "autos['brand'].value_counts(normalize=True) * 100"
   ]
  },
  {
   "cell_type": "markdown",
   "metadata": {},
   "source": [
    "Based on the results VW, BMW, and Opel since combined they make up slightly over 40% of the dataset with VW leading in sales by far."
   ]
  },
  {
   "cell_type": "code",
   "execution_count": null,
   "metadata": {},
   "outputs": [],
   "source": []
  }
 ]
}